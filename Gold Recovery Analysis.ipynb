{
 "cells": [
  {
   "cell_type": "markdown",
   "metadata": {},
   "source": [
    "# Deskripsi Proyek"
   ]
  },
  {
   "cell_type": "markdown",
   "metadata": {},
   "source": [
    "Bijih yang ditambang mengalami pemrosesan primer untuk mendapatkan campuran bijih atau feed yang lebih kasar. Hasil dari proses itu digunakan sebagai bahan baku untuk flotasi (alias proses untuk menghasilkan konsentrat yang lebih kasar). Setelah dilakukan flotasi, hasil partikel-partikelnya pun melewati proses pemurnian dua tahap yakni:\n",
    "\n",
    "1. Flotasi\n",
    "\n",
    "    Campuran bijih emas dimasukkan ke dalam tangki pelampung untuk mendapatkan konsentrat Au dan ekor yang lebih kasar (residu produk dengan tingkat konsentrasi logam berharga yang rendah).\n",
    "Kestabilan proses ini dipengaruhi oleh volatilitas dan keadaan fisikokimia yang tidak optimal dari pulp flotasi (campuran partikel padat dan cairan).\n",
    "\n",
    "\n",
    "2. Pemurnian\n",
    "\n",
    "    Konsentrat Au yang lebih kasar mengalami dua tahap pemurnian. Setelah proses pemurnian, kita pun akan memiliki tingkat konsentrasi logam akhir dan ekor baru.\n",
    "\n",
    "\n",
    "Data ini diindeks sesuai dengan tanggal dan waktu perolehannya (fitur date). Terkait waktu, parameter yang letaknya bersebelahan umumnya bersifat mirip.\n",
    "Sebagian parameter tidak tersedia karena pengukuran dan/atau penghitungannya dilakukan jauh setelahnya. Karena itu, beberapa fitur yang ada di training set mungkin tidak ada di test set. Test set-nya pun juga tidak memuat target.\n",
    "Dataset sumber memuat training dan test set dengan semua fitur-fiturnya.\n",
    "\n"
   ]
  },
  {
   "cell_type": "markdown",
   "metadata": {},
   "source": [
    "## Load Library"
   ]
  },
  {
   "cell_type": "code",
   "execution_count": 105,
   "metadata": {},
   "outputs": [],
   "source": [
    "import numpy as np \n",
    "import pandas as pd\n",
    "import matplotlib.pyplot as plt \n",
    "import seaborn as sns\n",
    "\n",
    "from sklearn.metrics import mean_absolute_error as mae\n",
    "\n",
    "import warnings\n",
    "warnings.filterwarnings('ignore')"
   ]
  },
  {
   "cell_type": "markdown",
   "metadata": {},
   "source": [
    "## Load dataset"
   ]
  },
  {
   "cell_type": "code",
   "execution_count": 106,
   "metadata": {},
   "outputs": [],
   "source": [
    "df_train = pd.read_csv('/datasets/gold_recovery_train.csv')\n",
    "df_test = pd.read_csv('/datasets/gold_recovery_test.csv')\n",
    "df_full = pd.read_csv('/datasets/gold_recovery_full.csv')"
   ]
  },
  {
   "cell_type": "markdown",
   "metadata": {},
   "source": [
    "### Deskripsi Data"
   ]
  },
  {
   "cell_type": "markdown",
   "metadata": {},
   "source": [
    "#### Proses teknologi\n",
    "- Rougher feed — bahan mentah untuk proses flotasi\n",
    "- Rougher additions (atau reagent additions) — reagen untuk flotasi: Xanthate, Sulphate, Depressant\n",
    "- Xanthate — penggerak atau aktivator flotasi\n",
    "- Sulphate — natrium sulfida, khusus untuk proses ini\n",
    "- Depressant — natrium silikat\n",
    "- Rougher process — flotasi\n",
    "- Rougher tails — residu produk\n",
    "- Float banks — unit flotasi\n",
    "- Cleaner process — pemurnian\n",
    "- Rougher Au — konsentrat emas yang lebih kasar\n",
    "- Final Au — konsentrat emas akhir\n",
    "\n",
    "#### Parameter dari setiap tahapan yang tersedia\n",
    "- air amount — volume udara\n",
    "- fluid levels\n",
    "- feed size — ukuran partikel umpan\n",
    "- feed rate"
   ]
  },
  {
   "cell_type": "markdown",
   "metadata": {},
   "source": [
    "#### Penamaan fitur"
   ]
  },
  {
   "cell_type": "markdown",
   "metadata": {},
   "source": [
    "Berikut merupakan cara untuk memberikan nama pada fitur-fitur yang ada:\n",
    "\n",
    "**[stage].[parameter_type].[parameter_name]**\n",
    "\n",
    "**Contoh: rougher.input.feed_ag**\n",
    "\n",
    "#### Nilai yang memungkinkan untuk [stage]:\n",
    "- rougher — flotasi\n",
    "- primary_cleaner — pemurnian pertama\n",
    "- secondary_cleaner — pemurnian kedua\n",
    "- final — karakteristik akhir\n",
    "\n",
    "#### Nilai yang memungkinkan untuk [parameter_type]:\n",
    "- input — parameter bahan mentah\n",
    "- output — parameter produk\n",
    "- state — parameter yang menunjukkan karakteristik tahapan saat ini\n",
    "- calculation — perhitungan karakteristik"
   ]
  },
  {
   "cell_type": "markdown",
   "metadata": {},
   "source": [
    "The equation of a line is $y = mx + b$, where $m$ is the slope and $b$ is the y-intercept.\n"
   ]
  },
  {
   "cell_type": "markdown",
   "metadata": {},
   "source": [
    "#### Perhitungan untuk perolehan"
   ]
  },
  {
   "cell_type": "markdown",
   "metadata": {},
   "source": [
    "Proses perolehan emas dari bijih emas akan disimulasikan dengan rumus berikut:\n",
    "\n",
    "$Perolehan = \\frac{C * (F-T)}{F * (C-T)} * 100\\%$\n",
    "\n",
    "\n",
    "Di mana:\n",
    "- C — persentase emas dalam konsentrat tepat setelah proses flotasi (untuk menemukan perolehan konsentrat yang lebih kasar)/setelah dilakukan pemurnian (untuk menemukan perolehan konsentrat akhir)\n",
    "\n",
    "- F — persentase emas dalam feed sebelum proses flotasi (untuk menemukan perolehan konsentrat yang lebih kasar)/ dalam konsentrat tepat setelah proses flotasi (untuk menemukan perolehan konsentrat akhir)\n",
    "\n",
    "- T — persentase emas dalam ekor yang lebih kasar, tepat setelah proses flotasi (untuk menemukan perolehan konsentrat yang lebih kasar)/setelah dilakukan pemurnian (untuk menemukan perolehan konsentrat akhir)"
   ]
  },
  {
   "cell_type": "markdown",
   "metadata": {},
   "source": [
    "#### Metrik evaluasi"
   ]
  },
  {
   "cell_type": "markdown",
   "metadata": {},
   "source": [
    "Untuk menyelesaikan masalah yang ada, kita akan menggunakan sMAPE (symmetric Mean Absolute Percentage Error) atau kesalahan persentase absolut rata-rata simetris. \n",
    "\n",
    "Berikut adalah cara untuk menghitung sMAPE:\n",
    "\n",
    "$sMAPE = \\frac{1}{N}\\sum\\limits_{i = 1}^{p}\\frac{|y_{i}-\\hat{y_{i}}|}{(|y_{i}|+|\\hat{y_{i}}|)/2} * 100\\%$\n",
    "\n",
    "Di mana:\n",
    "- $y_{i}$ - Nilai target untuk observasi dengan indeks i dalam set yang digunakan untuk mengukur kualitas.\n",
    "\n",
    "- $\\hat{y_{i}}$ - Nilai prediksi untuk observasi dengan indeks i, misalnya, dalam sampel uji atau test sample.\n",
    "\n",
    "- $N$ - Jumlah observasi pada sampel.\n",
    "\n",
    "- $\\sum\\limits_{i=1}^{N}$ - Penjumlahan semua observasi sampel (nilai i adalah 0 sampai N)."
   ]
  },
  {
   "cell_type": "markdown",
   "metadata": {},
   "source": [
    "#### Target analisis"
   ]
  },
  {
   "cell_type": "markdown",
   "metadata": {},
   "source": [
    "Analisis dilakukan untuk memprediksi kedua nilai berikut:\n",
    "- Perolehan konsentrat yang lebih kasar **rougher.output.recovery**\n",
    "- Perolehan konsentrat akhir **final.output.recovery**\n",
    "\n",
    "Metrik terakhir mencakup dua nilai:\n",
    "\n",
    "$sMAPE (akhir) = 25\\% * sMAPE(rougher) + 75\\% * sMAPE(final) $"
   ]
  },
  {
   "cell_type": "code",
   "execution_count": 107,
   "metadata": {
    "scrolled": true
   },
   "outputs": [
    {
     "name": "stdout",
     "output_type": "stream",
     "text": [
      "<class 'pandas.core.frame.DataFrame'>\n",
      "RangeIndex: 16860 entries, 0 to 16859\n",
      "Data columns (total 87 columns):\n",
      " #   Column                                              Non-Null Count  Dtype  \n",
      "---  ------                                              --------------  -----  \n",
      " 0   date                                                16860 non-null  object \n",
      " 1   final.output.concentrate_ag                         16788 non-null  float64\n",
      " 2   final.output.concentrate_pb                         16788 non-null  float64\n",
      " 3   final.output.concentrate_sol                        16490 non-null  float64\n",
      " 4   final.output.concentrate_au                         16789 non-null  float64\n",
      " 5   final.output.recovery                               15339 non-null  float64\n",
      " 6   final.output.tail_ag                                16794 non-null  float64\n",
      " 7   final.output.tail_pb                                16677 non-null  float64\n",
      " 8   final.output.tail_sol                               16715 non-null  float64\n",
      " 9   final.output.tail_au                                16794 non-null  float64\n",
      " 10  primary_cleaner.input.sulfate                       15553 non-null  float64\n",
      " 11  primary_cleaner.input.depressant                    15598 non-null  float64\n",
      " 12  primary_cleaner.input.feed_size                     16860 non-null  float64\n",
      " 13  primary_cleaner.input.xanthate                      15875 non-null  float64\n",
      " 14  primary_cleaner.output.concentrate_ag               16778 non-null  float64\n",
      " 15  primary_cleaner.output.concentrate_pb               16502 non-null  float64\n",
      " 16  primary_cleaner.output.concentrate_sol              16224 non-null  float64\n",
      " 17  primary_cleaner.output.concentrate_au               16778 non-null  float64\n",
      " 18  primary_cleaner.output.tail_ag                      16777 non-null  float64\n",
      " 19  primary_cleaner.output.tail_pb                      16761 non-null  float64\n",
      " 20  primary_cleaner.output.tail_sol                     16579 non-null  float64\n",
      " 21  primary_cleaner.output.tail_au                      16777 non-null  float64\n",
      " 22  primary_cleaner.state.floatbank8_a_air              16820 non-null  float64\n",
      " 23  primary_cleaner.state.floatbank8_a_level            16827 non-null  float64\n",
      " 24  primary_cleaner.state.floatbank8_b_air              16820 non-null  float64\n",
      " 25  primary_cleaner.state.floatbank8_b_level            16833 non-null  float64\n",
      " 26  primary_cleaner.state.floatbank8_c_air              16822 non-null  float64\n",
      " 27  primary_cleaner.state.floatbank8_c_level            16833 non-null  float64\n",
      " 28  primary_cleaner.state.floatbank8_d_air              16821 non-null  float64\n",
      " 29  primary_cleaner.state.floatbank8_d_level            16833 non-null  float64\n",
      " 30  rougher.calculation.sulfate_to_au_concentrate       16833 non-null  float64\n",
      " 31  rougher.calculation.floatbank10_sulfate_to_au_feed  16833 non-null  float64\n",
      " 32  rougher.calculation.floatbank11_sulfate_to_au_feed  16833 non-null  float64\n",
      " 33  rougher.calculation.au_pb_ratio                     15618 non-null  float64\n",
      " 34  rougher.input.feed_ag                               16778 non-null  float64\n",
      " 35  rougher.input.feed_pb                               16632 non-null  float64\n",
      " 36  rougher.input.feed_rate                             16347 non-null  float64\n",
      " 37  rougher.input.feed_size                             16443 non-null  float64\n",
      " 38  rougher.input.feed_sol                              16568 non-null  float64\n",
      " 39  rougher.input.feed_au                               16777 non-null  float64\n",
      " 40  rougher.input.floatbank10_sulfate                   15816 non-null  float64\n",
      " 41  rougher.input.floatbank10_xanthate                  16514 non-null  float64\n",
      " 42  rougher.input.floatbank11_sulfate                   16237 non-null  float64\n",
      " 43  rougher.input.floatbank11_xanthate                  14956 non-null  float64\n",
      " 44  rougher.output.concentrate_ag                       16778 non-null  float64\n",
      " 45  rougher.output.concentrate_pb                       16778 non-null  float64\n",
      " 46  rougher.output.concentrate_sol                      16698 non-null  float64\n",
      " 47  rougher.output.concentrate_au                       16778 non-null  float64\n",
      " 48  rougher.output.recovery                             14287 non-null  float64\n",
      " 49  rougher.output.tail_ag                              14610 non-null  float64\n",
      " 50  rougher.output.tail_pb                              16778 non-null  float64\n",
      " 51  rougher.output.tail_sol                             14611 non-null  float64\n",
      " 52  rougher.output.tail_au                              14611 non-null  float64\n",
      " 53  rougher.state.floatbank10_a_air                     16807 non-null  float64\n",
      " 54  rougher.state.floatbank10_a_level                   16807 non-null  float64\n",
      " 55  rougher.state.floatbank10_b_air                     16807 non-null  float64\n",
      " 56  rougher.state.floatbank10_b_level                   16807 non-null  float64\n",
      " 57  rougher.state.floatbank10_c_air                     16807 non-null  float64\n",
      " 58  rougher.state.floatbank10_c_level                   16814 non-null  float64\n",
      " 59  rougher.state.floatbank10_d_air                     16802 non-null  float64\n",
      " 60  rougher.state.floatbank10_d_level                   16809 non-null  float64\n",
      " 61  rougher.state.floatbank10_e_air                     16257 non-null  float64\n",
      " 62  rougher.state.floatbank10_e_level                   16809 non-null  float64\n",
      " 63  rougher.state.floatbank10_f_air                     16802 non-null  float64\n",
      " 64  rougher.state.floatbank10_f_level                   16802 non-null  float64\n",
      " 65  secondary_cleaner.output.tail_ag                    16776 non-null  float64\n",
      " 66  secondary_cleaner.output.tail_pb                    16764 non-null  float64\n",
      " 67  secondary_cleaner.output.tail_sol                   14874 non-null  float64\n",
      " 68  secondary_cleaner.output.tail_au                    16778 non-null  float64\n",
      " 69  secondary_cleaner.state.floatbank2_a_air            16497 non-null  float64\n",
      " 70  secondary_cleaner.state.floatbank2_a_level          16751 non-null  float64\n",
      " 71  secondary_cleaner.state.floatbank2_b_air            16705 non-null  float64\n",
      " 72  secondary_cleaner.state.floatbank2_b_level          16748 non-null  float64\n",
      " 73  secondary_cleaner.state.floatbank3_a_air            16763 non-null  float64\n",
      " 74  secondary_cleaner.state.floatbank3_a_level          16747 non-null  float64\n",
      " 75  secondary_cleaner.state.floatbank3_b_air            16752 non-null  float64\n",
      " 76  secondary_cleaner.state.floatbank3_b_level          16750 non-null  float64\n",
      " 77  secondary_cleaner.state.floatbank4_a_air            16731 non-null  float64\n",
      " 78  secondary_cleaner.state.floatbank4_a_level          16747 non-null  float64\n",
      " 79  secondary_cleaner.state.floatbank4_b_air            16768 non-null  float64\n",
      " 80  secondary_cleaner.state.floatbank4_b_level          16767 non-null  float64\n",
      " 81  secondary_cleaner.state.floatbank5_a_air            16775 non-null  float64\n",
      " 82  secondary_cleaner.state.floatbank5_a_level          16775 non-null  float64\n",
      " 83  secondary_cleaner.state.floatbank5_b_air            16775 non-null  float64\n",
      " 84  secondary_cleaner.state.floatbank5_b_level          16776 non-null  float64\n",
      " 85  secondary_cleaner.state.floatbank6_a_air            16757 non-null  float64\n",
      " 86  secondary_cleaner.state.floatbank6_a_level          16775 non-null  float64\n",
      "dtypes: float64(86), object(1)\n",
      "memory usage: 11.2+ MB\n"
     ]
    }
   ],
   "source": [
    "df_train.info()"
   ]
  },
  {
   "cell_type": "code",
   "execution_count": 108,
   "metadata": {
    "scrolled": true
   },
   "outputs": [
    {
     "name": "stdout",
     "output_type": "stream",
     "text": [
      "<class 'pandas.core.frame.DataFrame'>\n",
      "RangeIndex: 5856 entries, 0 to 5855\n",
      "Data columns (total 53 columns):\n",
      " #   Column                                      Non-Null Count  Dtype  \n",
      "---  ------                                      --------------  -----  \n",
      " 0   date                                        5856 non-null   object \n",
      " 1   primary_cleaner.input.sulfate               5554 non-null   float64\n",
      " 2   primary_cleaner.input.depressant            5572 non-null   float64\n",
      " 3   primary_cleaner.input.feed_size             5856 non-null   float64\n",
      " 4   primary_cleaner.input.xanthate              5690 non-null   float64\n",
      " 5   primary_cleaner.state.floatbank8_a_air      5840 non-null   float64\n",
      " 6   primary_cleaner.state.floatbank8_a_level    5840 non-null   float64\n",
      " 7   primary_cleaner.state.floatbank8_b_air      5840 non-null   float64\n",
      " 8   primary_cleaner.state.floatbank8_b_level    5840 non-null   float64\n",
      " 9   primary_cleaner.state.floatbank8_c_air      5840 non-null   float64\n",
      " 10  primary_cleaner.state.floatbank8_c_level    5840 non-null   float64\n",
      " 11  primary_cleaner.state.floatbank8_d_air      5840 non-null   float64\n",
      " 12  primary_cleaner.state.floatbank8_d_level    5840 non-null   float64\n",
      " 13  rougher.input.feed_ag                       5840 non-null   float64\n",
      " 14  rougher.input.feed_pb                       5840 non-null   float64\n",
      " 15  rougher.input.feed_rate                     5816 non-null   float64\n",
      " 16  rougher.input.feed_size                     5834 non-null   float64\n",
      " 17  rougher.input.feed_sol                      5789 non-null   float64\n",
      " 18  rougher.input.feed_au                       5840 non-null   float64\n",
      " 19  rougher.input.floatbank10_sulfate           5599 non-null   float64\n",
      " 20  rougher.input.floatbank10_xanthate          5733 non-null   float64\n",
      " 21  rougher.input.floatbank11_sulfate           5801 non-null   float64\n",
      " 22  rougher.input.floatbank11_xanthate          5503 non-null   float64\n",
      " 23  rougher.state.floatbank10_a_air             5839 non-null   float64\n",
      " 24  rougher.state.floatbank10_a_level           5840 non-null   float64\n",
      " 25  rougher.state.floatbank10_b_air             5839 non-null   float64\n",
      " 26  rougher.state.floatbank10_b_level           5840 non-null   float64\n",
      " 27  rougher.state.floatbank10_c_air             5839 non-null   float64\n",
      " 28  rougher.state.floatbank10_c_level           5840 non-null   float64\n",
      " 29  rougher.state.floatbank10_d_air             5839 non-null   float64\n",
      " 30  rougher.state.floatbank10_d_level           5840 non-null   float64\n",
      " 31  rougher.state.floatbank10_e_air             5839 non-null   float64\n",
      " 32  rougher.state.floatbank10_e_level           5840 non-null   float64\n",
      " 33  rougher.state.floatbank10_f_air             5839 non-null   float64\n",
      " 34  rougher.state.floatbank10_f_level           5840 non-null   float64\n",
      " 35  secondary_cleaner.state.floatbank2_a_air    5836 non-null   float64\n",
      " 36  secondary_cleaner.state.floatbank2_a_level  5840 non-null   float64\n",
      " 37  secondary_cleaner.state.floatbank2_b_air    5833 non-null   float64\n",
      " 38  secondary_cleaner.state.floatbank2_b_level  5840 non-null   float64\n",
      " 39  secondary_cleaner.state.floatbank3_a_air    5822 non-null   float64\n",
      " 40  secondary_cleaner.state.floatbank3_a_level  5840 non-null   float64\n",
      " 41  secondary_cleaner.state.floatbank3_b_air    5840 non-null   float64\n",
      " 42  secondary_cleaner.state.floatbank3_b_level  5840 non-null   float64\n",
      " 43  secondary_cleaner.state.floatbank4_a_air    5840 non-null   float64\n",
      " 44  secondary_cleaner.state.floatbank4_a_level  5840 non-null   float64\n",
      " 45  secondary_cleaner.state.floatbank4_b_air    5840 non-null   float64\n",
      " 46  secondary_cleaner.state.floatbank4_b_level  5840 non-null   float64\n",
      " 47  secondary_cleaner.state.floatbank5_a_air    5840 non-null   float64\n",
      " 48  secondary_cleaner.state.floatbank5_a_level  5840 non-null   float64\n",
      " 49  secondary_cleaner.state.floatbank5_b_air    5840 non-null   float64\n",
      " 50  secondary_cleaner.state.floatbank5_b_level  5840 non-null   float64\n",
      " 51  secondary_cleaner.state.floatbank6_a_air    5840 non-null   float64\n",
      " 52  secondary_cleaner.state.floatbank6_a_level  5840 non-null   float64\n",
      "dtypes: float64(52), object(1)\n",
      "memory usage: 2.4+ MB\n"
     ]
    }
   ],
   "source": [
    "df_test.info()"
   ]
  },
  {
   "cell_type": "code",
   "execution_count": 109,
   "metadata": {
    "scrolled": true
   },
   "outputs": [
    {
     "name": "stdout",
     "output_type": "stream",
     "text": [
      "<class 'pandas.core.frame.DataFrame'>\n",
      "RangeIndex: 22716 entries, 0 to 22715\n",
      "Data columns (total 87 columns):\n",
      " #   Column                                              Non-Null Count  Dtype  \n",
      "---  ------                                              --------------  -----  \n",
      " 0   date                                                22716 non-null  object \n",
      " 1   final.output.concentrate_ag                         22627 non-null  float64\n",
      " 2   final.output.concentrate_pb                         22629 non-null  float64\n",
      " 3   final.output.concentrate_sol                        22331 non-null  float64\n",
      " 4   final.output.concentrate_au                         22630 non-null  float64\n",
      " 5   final.output.recovery                               20753 non-null  float64\n",
      " 6   final.output.tail_ag                                22633 non-null  float64\n",
      " 7   final.output.tail_pb                                22516 non-null  float64\n",
      " 8   final.output.tail_sol                               22445 non-null  float64\n",
      " 9   final.output.tail_au                                22635 non-null  float64\n",
      " 10  primary_cleaner.input.sulfate                       21107 non-null  float64\n",
      " 11  primary_cleaner.input.depressant                    21170 non-null  float64\n",
      " 12  primary_cleaner.input.feed_size                     22716 non-null  float64\n",
      " 13  primary_cleaner.input.xanthate                      21565 non-null  float64\n",
      " 14  primary_cleaner.output.concentrate_ag               22618 non-null  float64\n",
      " 15  primary_cleaner.output.concentrate_pb               22268 non-null  float64\n",
      " 16  primary_cleaner.output.concentrate_sol              21918 non-null  float64\n",
      " 17  primary_cleaner.output.concentrate_au               22618 non-null  float64\n",
      " 18  primary_cleaner.output.tail_ag                      22614 non-null  float64\n",
      " 19  primary_cleaner.output.tail_pb                      22594 non-null  float64\n",
      " 20  primary_cleaner.output.tail_sol                     22365 non-null  float64\n",
      " 21  primary_cleaner.output.tail_au                      22617 non-null  float64\n",
      " 22  primary_cleaner.state.floatbank8_a_air              22660 non-null  float64\n",
      " 23  primary_cleaner.state.floatbank8_a_level            22667 non-null  float64\n",
      " 24  primary_cleaner.state.floatbank8_b_air              22660 non-null  float64\n",
      " 25  primary_cleaner.state.floatbank8_b_level            22673 non-null  float64\n",
      " 26  primary_cleaner.state.floatbank8_c_air              22662 non-null  float64\n",
      " 27  primary_cleaner.state.floatbank8_c_level            22673 non-null  float64\n",
      " 28  primary_cleaner.state.floatbank8_d_air              22661 non-null  float64\n",
      " 29  primary_cleaner.state.floatbank8_d_level            22673 non-null  float64\n",
      " 30  rougher.calculation.sulfate_to_au_concentrate       22672 non-null  float64\n",
      " 31  rougher.calculation.floatbank10_sulfate_to_au_feed  22672 non-null  float64\n",
      " 32  rougher.calculation.floatbank11_sulfate_to_au_feed  22672 non-null  float64\n",
      " 33  rougher.calculation.au_pb_ratio                     21089 non-null  float64\n",
      " 34  rougher.input.feed_ag                               22618 non-null  float64\n",
      " 35  rougher.input.feed_pb                               22472 non-null  float64\n",
      " 36  rougher.input.feed_rate                             22163 non-null  float64\n",
      " 37  rougher.input.feed_size                             22277 non-null  float64\n",
      " 38  rougher.input.feed_sol                              22357 non-null  float64\n",
      " 39  rougher.input.feed_au                               22617 non-null  float64\n",
      " 40  rougher.input.floatbank10_sulfate                   21415 non-null  float64\n",
      " 41  rougher.input.floatbank10_xanthate                  22247 non-null  float64\n",
      " 42  rougher.input.floatbank11_sulfate                   22038 non-null  float64\n",
      " 43  rougher.input.floatbank11_xanthate                  20459 non-null  float64\n",
      " 44  rougher.output.concentrate_ag                       22618 non-null  float64\n",
      " 45  rougher.output.concentrate_pb                       22618 non-null  float64\n",
      " 46  rougher.output.concentrate_sol                      22526 non-null  float64\n",
      " 47  rougher.output.concentrate_au                       22618 non-null  float64\n",
      " 48  rougher.output.recovery                             19597 non-null  float64\n",
      " 49  rougher.output.tail_ag                              19979 non-null  float64\n",
      " 50  rougher.output.tail_pb                              22618 non-null  float64\n",
      " 51  rougher.output.tail_sol                             19980 non-null  float64\n",
      " 52  rougher.output.tail_au                              19980 non-null  float64\n",
      " 53  rougher.state.floatbank10_a_air                     22646 non-null  float64\n",
      " 54  rougher.state.floatbank10_a_level                   22647 non-null  float64\n",
      " 55  rougher.state.floatbank10_b_air                     22646 non-null  float64\n",
      " 56  rougher.state.floatbank10_b_level                   22647 non-null  float64\n",
      " 57  rougher.state.floatbank10_c_air                     22646 non-null  float64\n",
      " 58  rougher.state.floatbank10_c_level                   22654 non-null  float64\n",
      " 59  rougher.state.floatbank10_d_air                     22641 non-null  float64\n",
      " 60  rougher.state.floatbank10_d_level                   22649 non-null  float64\n",
      " 61  rougher.state.floatbank10_e_air                     22096 non-null  float64\n",
      " 62  rougher.state.floatbank10_e_level                   22649 non-null  float64\n",
      " 63  rougher.state.floatbank10_f_air                     22641 non-null  float64\n",
      " 64  rougher.state.floatbank10_f_level                   22642 non-null  float64\n",
      " 65  secondary_cleaner.output.tail_ag                    22616 non-null  float64\n",
      " 66  secondary_cleaner.output.tail_pb                    22600 non-null  float64\n",
      " 67  secondary_cleaner.output.tail_sol                   20501 non-null  float64\n",
      " 68  secondary_cleaner.output.tail_au                    22618 non-null  float64\n",
      " 69  secondary_cleaner.state.floatbank2_a_air            22333 non-null  float64\n",
      " 70  secondary_cleaner.state.floatbank2_a_level          22591 non-null  float64\n",
      " 71  secondary_cleaner.state.floatbank2_b_air            22538 non-null  float64\n",
      " 72  secondary_cleaner.state.floatbank2_b_level          22588 non-null  float64\n",
      " 73  secondary_cleaner.state.floatbank3_a_air            22585 non-null  float64\n",
      " 74  secondary_cleaner.state.floatbank3_a_level          22587 non-null  float64\n",
      " 75  secondary_cleaner.state.floatbank3_b_air            22592 non-null  float64\n",
      " 76  secondary_cleaner.state.floatbank3_b_level          22590 non-null  float64\n",
      " 77  secondary_cleaner.state.floatbank4_a_air            22571 non-null  float64\n",
      " 78  secondary_cleaner.state.floatbank4_a_level          22587 non-null  float64\n",
      " 79  secondary_cleaner.state.floatbank4_b_air            22608 non-null  float64\n",
      " 80  secondary_cleaner.state.floatbank4_b_level          22607 non-null  float64\n",
      " 81  secondary_cleaner.state.floatbank5_a_air            22615 non-null  float64\n",
      " 82  secondary_cleaner.state.floatbank5_a_level          22615 non-null  float64\n",
      " 83  secondary_cleaner.state.floatbank5_b_air            22615 non-null  float64\n",
      " 84  secondary_cleaner.state.floatbank5_b_level          22616 non-null  float64\n",
      " 85  secondary_cleaner.state.floatbank6_a_air            22597 non-null  float64\n",
      " 86  secondary_cleaner.state.floatbank6_a_level          22615 non-null  float64\n",
      "dtypes: float64(86), object(1)\n",
      "memory usage: 15.1+ MB\n"
     ]
    }
   ],
   "source": [
    "df_full.info()"
   ]
  },
  {
   "cell_type": "code",
   "execution_count": 110,
   "metadata": {},
   "outputs": [
    {
     "data": {
      "text/plain": [
       "date                                                  0.000000\n",
       "primary_cleaner.input.feed_size                       0.000000\n",
       "rougher.calculation.floatbank11_sulfate_to_au_feed    0.001601\n",
       "rougher.calculation.floatbank10_sulfate_to_au_feed    0.001601\n",
       "rougher.calculation.sulfate_to_au_concentrate         0.001601\n",
       "                                                        ...   \n",
       "secondary_cleaner.output.tail_sol                     0.117794\n",
       "rougher.output.tail_au                                0.133393\n",
       "rougher.output.tail_sol                               0.133393\n",
       "rougher.output.tail_ag                                0.133452\n",
       "rougher.output.recovery                               0.152610\n",
       "Length: 87, dtype: float64"
      ]
     },
     "execution_count": 110,
     "metadata": {},
     "output_type": "execute_result"
    }
   ],
   "source": [
    "df_train.isna().mean().sort_values()"
   ]
  },
  {
   "cell_type": "code",
   "execution_count": 111,
   "metadata": {
    "scrolled": true
   },
   "outputs": [
    {
     "data": {
      "text/plain": [
       "date                                          0.000000\n",
       "primary_cleaner.input.feed_size               0.000000\n",
       "rougher.state.floatbank10_c_level             0.002732\n",
       "rougher.state.floatbank10_d_level             0.002732\n",
       "rougher.state.floatbank10_e_level             0.002732\n",
       "rougher.state.floatbank10_f_level             0.002732\n",
       "secondary_cleaner.state.floatbank2_a_level    0.002732\n",
       "secondary_cleaner.state.floatbank2_b_level    0.002732\n",
       "secondary_cleaner.state.floatbank3_a_level    0.002732\n",
       "secondary_cleaner.state.floatbank3_b_air      0.002732\n",
       "secondary_cleaner.state.floatbank3_b_level    0.002732\n",
       "secondary_cleaner.state.floatbank4_a_air      0.002732\n",
       "secondary_cleaner.state.floatbank4_a_level    0.002732\n",
       "secondary_cleaner.state.floatbank4_b_air      0.002732\n",
       "secondary_cleaner.state.floatbank4_b_level    0.002732\n",
       "secondary_cleaner.state.floatbank5_a_air      0.002732\n",
       "secondary_cleaner.state.floatbank5_a_level    0.002732\n",
       "secondary_cleaner.state.floatbank5_b_air      0.002732\n",
       "secondary_cleaner.state.floatbank5_b_level    0.002732\n",
       "secondary_cleaner.state.floatbank6_a_air      0.002732\n",
       "rougher.state.floatbank10_a_level             0.002732\n",
       "rougher.state.floatbank10_b_level             0.002732\n",
       "secondary_cleaner.state.floatbank6_a_level    0.002732\n",
       "primary_cleaner.state.floatbank8_c_level      0.002732\n",
       "rougher.input.feed_ag                         0.002732\n",
       "primary_cleaner.state.floatbank8_c_air        0.002732\n",
       "rougher.input.feed_pb                         0.002732\n",
       "primary_cleaner.state.floatbank8_b_level      0.002732\n",
       "primary_cleaner.state.floatbank8_d_level      0.002732\n",
       "primary_cleaner.state.floatbank8_b_air        0.002732\n",
       "primary_cleaner.state.floatbank8_d_air        0.002732\n",
       "rougher.input.feed_au                         0.002732\n",
       "primary_cleaner.state.floatbank8_a_level      0.002732\n",
       "primary_cleaner.state.floatbank8_a_air        0.002732\n",
       "rougher.state.floatbank10_f_air               0.002903\n",
       "rougher.state.floatbank10_c_air               0.002903\n",
       "rougher.state.floatbank10_b_air               0.002903\n",
       "rougher.state.floatbank10_a_air               0.002903\n",
       "rougher.state.floatbank10_d_air               0.002903\n",
       "rougher.state.floatbank10_e_air               0.002903\n",
       "secondary_cleaner.state.floatbank2_a_air      0.003415\n",
       "rougher.input.feed_size                       0.003757\n",
       "secondary_cleaner.state.floatbank2_b_air      0.003928\n",
       "secondary_cleaner.state.floatbank3_a_air      0.005806\n",
       "rougher.input.feed_rate                       0.006831\n",
       "rougher.input.floatbank11_sulfate             0.009392\n",
       "rougher.input.feed_sol                        0.011441\n",
       "rougher.input.floatbank10_xanthate            0.021004\n",
       "primary_cleaner.input.xanthate                0.028347\n",
       "rougher.input.floatbank10_sulfate             0.043887\n",
       "primary_cleaner.input.depressant              0.048497\n",
       "primary_cleaner.input.sulfate                 0.051571\n",
       "rougher.input.floatbank11_xanthate            0.060280\n",
       "dtype: float64"
      ]
     },
     "execution_count": 111,
     "metadata": {},
     "output_type": "execute_result"
    }
   ],
   "source": [
    "df_test.isna().mean().sort_values()"
   ]
  },
  {
   "cell_type": "code",
   "execution_count": 112,
   "metadata": {},
   "outputs": [
    {
     "data": {
      "text/plain": [
       "date                                        0.000000\n",
       "primary_cleaner.input.feed_size             0.000000\n",
       "primary_cleaner.state.floatbank8_d_level    0.001893\n",
       "primary_cleaner.state.floatbank8_c_level    0.001893\n",
       "primary_cleaner.state.floatbank8_b_level    0.001893\n",
       "                                              ...   \n",
       "rougher.input.floatbank11_xanthate          0.099357\n",
       "rougher.output.tail_au                      0.120444\n",
       "rougher.output.tail_sol                     0.120444\n",
       "rougher.output.tail_ag                      0.120488\n",
       "rougher.output.recovery                     0.137304\n",
       "Length: 87, dtype: float64"
      ]
     },
     "execution_count": 112,
     "metadata": {},
     "output_type": "execute_result"
    }
   ],
   "source": [
    "df_full.isna().mean().sort_values()"
   ]
  },
  {
   "cell_type": "code",
   "execution_count": 113,
   "metadata": {},
   "outputs": [
    {
     "name": "stdout",
     "output_type": "stream",
     "text": [
      "Number of df_train duplicated : 0\n",
      "Number of df_test duplicated  : 0\n",
      "Number of df_full duplicated  : 0\n"
     ]
    }
   ],
   "source": [
    "print('Number of df_train duplicated :',df_train.duplicated().sum())\n",
    "print('Number of df_test duplicated  :',df_test.duplicated().sum())\n",
    "print('Number of df_full duplicated  :',df_full.duplicated().sum())"
   ]
  },
  {
   "cell_type": "code",
   "execution_count": 114,
   "metadata": {},
   "outputs": [
    {
     "name": "stdout",
     "output_type": "stream",
     "text": [
      "Shape of df_train  : (16860, 87)\n",
      "Shape of df_test   : (5856, 53)\n",
      "Shape of df_full   : (22716, 87)\n"
     ]
    }
   ],
   "source": [
    "print('Shape of df_train  :',df_train.shape)\n",
    "print('Shape of df_test   :',df_test.shape)\n",
    "print('Shape of df_full   :',df_full.shape)\n"
   ]
  },
  {
   "cell_type": "markdown",
   "metadata": {},
   "source": [
    "Dari hasil yang didapatkan, ditemukan banyak missing values dari setiap dataset yang perlu diperbaiki. Bentuk dataset juga menunjukan terdapat 34 kolom yang tidak terdapat pada df_test."
   ]
  },
  {
   "cell_type": "markdown",
   "metadata": {},
   "source": [
    "## Data Preparation"
   ]
  },
  {
   "cell_type": "markdown",
   "metadata": {},
   "source": [
    "### MAE output.recovery"
   ]
  },
  {
   "cell_type": "code",
   "execution_count": 115,
   "metadata": {},
   "outputs": [
    {
     "data": {
      "text/html": [
       "<div>\n",
       "<style scoped>\n",
       "    .dataframe tbody tr th:only-of-type {\n",
       "        vertical-align: middle;\n",
       "    }\n",
       "\n",
       "    .dataframe tbody tr th {\n",
       "        vertical-align: top;\n",
       "    }\n",
       "\n",
       "    .dataframe thead th {\n",
       "        text-align: right;\n",
       "    }\n",
       "</style>\n",
       "<table border=\"1\" class=\"dataframe\">\n",
       "  <thead>\n",
       "    <tr style=\"text-align: right;\">\n",
       "      <th></th>\n",
       "      <th>rougher.output.concentrate_au</th>\n",
       "      <th>rougher.input.feed_au</th>\n",
       "      <th>rougher.output.tail_au</th>\n",
       "      <th>rougher.output.recovery</th>\n",
       "    </tr>\n",
       "  </thead>\n",
       "  <tbody>\n",
       "    <tr>\n",
       "      <th>0</th>\n",
       "      <td>19.793808</td>\n",
       "      <td>6.486150</td>\n",
       "      <td>1.170244</td>\n",
       "      <td>87.107763</td>\n",
       "    </tr>\n",
       "    <tr>\n",
       "      <th>1</th>\n",
       "      <td>20.050975</td>\n",
       "      <td>6.478583</td>\n",
       "      <td>1.184827</td>\n",
       "      <td>86.843261</td>\n",
       "    </tr>\n",
       "    <tr>\n",
       "      <th>2</th>\n",
       "      <td>19.737170</td>\n",
       "      <td>6.362222</td>\n",
       "      <td>1.162562</td>\n",
       "      <td>86.842308</td>\n",
       "    </tr>\n",
       "    <tr>\n",
       "      <th>3</th>\n",
       "      <td>19.320810</td>\n",
       "      <td>6.118189</td>\n",
       "      <td>1.079755</td>\n",
       "      <td>87.226430</td>\n",
       "    </tr>\n",
       "    <tr>\n",
       "      <th>4</th>\n",
       "      <td>19.216101</td>\n",
       "      <td>5.663707</td>\n",
       "      <td>1.012642</td>\n",
       "      <td>86.688794</td>\n",
       "    </tr>\n",
       "  </tbody>\n",
       "</table>\n",
       "</div>"
      ],
      "text/plain": [
       "   rougher.output.concentrate_au  rougher.input.feed_au  \\\n",
       "0                      19.793808               6.486150   \n",
       "1                      20.050975               6.478583   \n",
       "2                      19.737170               6.362222   \n",
       "3                      19.320810               6.118189   \n",
       "4                      19.216101               5.663707   \n",
       "\n",
       "   rougher.output.tail_au  rougher.output.recovery  \n",
       "0                1.170244                87.107763  \n",
       "1                1.184827                86.843261  \n",
       "2                1.162562                86.842308  \n",
       "3                1.079755                87.226430  \n",
       "4                1.012642                86.688794  "
      ]
     },
     "execution_count": 115,
     "metadata": {},
     "output_type": "execute_result"
    }
   ],
   "source": [
    "df_formula = df_train[['rougher.output.concentrate_au','rougher.input.feed_au','rougher.output.tail_au','rougher.output.recovery']]\n",
    "df_formula.head()"
   ]
  },
  {
   "cell_type": "code",
   "execution_count": 116,
   "metadata": {},
   "outputs": [],
   "source": [
    "# Formula untuk mencari perolehan emas\n",
    "C = 'rougher.output.concentrate_au'\n",
    "F = 'rougher.input.feed_au'\n",
    "T = 'rougher.output.tail_au'\n",
    "df_numerator = df_formula[C]*(df_formula[F]-df_formula[T])\n",
    "df_denominator = df_formula[F]*(df_formula[C]-df_formula[T])"
   ]
  },
  {
   "cell_type": "code",
   "execution_count": 117,
   "metadata": {},
   "outputs": [
    {
     "data": {
      "text/plain": [
       "0        87.107763\n",
       "1        86.843261\n",
       "2        86.842308\n",
       "3        87.226430\n",
       "4        86.688794\n",
       "           ...    \n",
       "16855    89.574376\n",
       "16856    87.724007\n",
       "16857    88.890579\n",
       "16858    89.858126\n",
       "16859    89.514960\n",
       "Length: 16860, dtype: float64"
      ]
     },
     "execution_count": 117,
     "metadata": {},
     "output_type": "execute_result"
    }
   ],
   "source": [
    "formula = round((df_formula[C]*(df_formula[F]-df_formula[T]))/(df_formula[F]*(df_formula[C]-df_formula[T])) * 100, 6)\n",
    "formula"
   ]
  },
  {
   "cell_type": "code",
   "execution_count": 118,
   "metadata": {},
   "outputs": [
    {
     "data": {
      "text/html": [
       "<div>\n",
       "<style scoped>\n",
       "    .dataframe tbody tr th:only-of-type {\n",
       "        vertical-align: middle;\n",
       "    }\n",
       "\n",
       "    .dataframe tbody tr th {\n",
       "        vertical-align: top;\n",
       "    }\n",
       "\n",
       "    .dataframe thead th {\n",
       "        text-align: right;\n",
       "    }\n",
       "</style>\n",
       "<table border=\"1\" class=\"dataframe\">\n",
       "  <thead>\n",
       "    <tr style=\"text-align: right;\">\n",
       "      <th></th>\n",
       "      <th>formula</th>\n",
       "      <th>output.recovery</th>\n",
       "    </tr>\n",
       "  </thead>\n",
       "  <tbody>\n",
       "    <tr>\n",
       "      <th>0</th>\n",
       "      <td>87.107763</td>\n",
       "      <td>87.107763</td>\n",
       "    </tr>\n",
       "    <tr>\n",
       "      <th>1</th>\n",
       "      <td>86.843261</td>\n",
       "      <td>86.843261</td>\n",
       "    </tr>\n",
       "    <tr>\n",
       "      <th>2</th>\n",
       "      <td>86.842308</td>\n",
       "      <td>86.842308</td>\n",
       "    </tr>\n",
       "    <tr>\n",
       "      <th>3</th>\n",
       "      <td>87.226430</td>\n",
       "      <td>87.226430</td>\n",
       "    </tr>\n",
       "    <tr>\n",
       "      <th>4</th>\n",
       "      <td>86.688794</td>\n",
       "      <td>86.688794</td>\n",
       "    </tr>\n",
       "    <tr>\n",
       "      <th>...</th>\n",
       "      <td>...</td>\n",
       "      <td>...</td>\n",
       "    </tr>\n",
       "    <tr>\n",
       "      <th>16855</th>\n",
       "      <td>89.574376</td>\n",
       "      <td>89.574376</td>\n",
       "    </tr>\n",
       "    <tr>\n",
       "      <th>16856</th>\n",
       "      <td>87.724007</td>\n",
       "      <td>87.724007</td>\n",
       "    </tr>\n",
       "    <tr>\n",
       "      <th>16857</th>\n",
       "      <td>88.890579</td>\n",
       "      <td>88.890579</td>\n",
       "    </tr>\n",
       "    <tr>\n",
       "      <th>16858</th>\n",
       "      <td>89.858126</td>\n",
       "      <td>89.858126</td>\n",
       "    </tr>\n",
       "    <tr>\n",
       "      <th>16859</th>\n",
       "      <td>89.514960</td>\n",
       "      <td>89.514960</td>\n",
       "    </tr>\n",
       "  </tbody>\n",
       "</table>\n",
       "<p>16860 rows × 2 columns</p>\n",
       "</div>"
      ],
      "text/plain": [
       "         formula  output.recovery\n",
       "0      87.107763        87.107763\n",
       "1      86.843261        86.843261\n",
       "2      86.842308        86.842308\n",
       "3      87.226430        87.226430\n",
       "4      86.688794        86.688794\n",
       "...          ...              ...\n",
       "16855  89.574376        89.574376\n",
       "16856  87.724007        87.724007\n",
       "16857  88.890579        88.890579\n",
       "16858  89.858126        89.858126\n",
       "16859  89.514960        89.514960\n",
       "\n",
       "[16860 rows x 2 columns]"
      ]
     },
     "execution_count": 118,
     "metadata": {},
     "output_type": "execute_result"
    }
   ],
   "source": [
    "pd.DataFrame({'formula':formula,'output.recovery':df_formula['rougher.output.recovery']})"
   ]
  },
  {
   "cell_type": "code",
   "execution_count": 119,
   "metadata": {},
   "outputs": [],
   "source": [
    "# Dalam penghitungan missing value pada numerator diubah menjadi 0 dan pada denominator menjadi 1 agar tidak terjadi masalah dalam penghitungan\n",
    "df_numerator = df_numerator.fillna(0)\n",
    "df_denominator = df_denominator.fillna(1)\n",
    "df_formula['rougher.output.recovery_formula'] = (df_numerator/df_denominator) * 100"
   ]
  },
  {
   "cell_type": "code",
   "execution_count": 120,
   "metadata": {},
   "outputs": [],
   "source": [
    "comparison = pd.DataFrame({'formula':df_formula['rougher.output.recovery_formula'],'output.recovery':df_formula['rougher.output.recovery']})"
   ]
  },
  {
   "cell_type": "code",
   "execution_count": 121,
   "metadata": {},
   "outputs": [],
   "source": [
    "comparison = comparison.fillna(0)\n",
    "comparison = comparison.replace(np.inf, 0)\n",
    "comparison = comparison.replace(np.NINF, 0)\n",
    "comparison['formula'] = round(comparison['formula'], 6)\n",
    "comparison['output.recovery'] = round(comparison['output.recovery'], 6)"
   ]
  },
  {
   "cell_type": "code",
   "execution_count": 122,
   "metadata": {},
   "outputs": [
    {
     "data": {
      "text/plain": [
       "formula            0\n",
       "output.recovery    0\n",
       "dtype: int64"
      ]
     },
     "execution_count": 122,
     "metadata": {},
     "output_type": "execute_result"
    }
   ],
   "source": [
    "comparison.isna().sum()"
   ]
  },
  {
   "cell_type": "code",
   "execution_count": 123,
   "metadata": {},
   "outputs": [
    {
     "name": "stdout",
     "output_type": "stream",
     "text": [
      "MAE sebelum missing value diubah menjadi 0: 9.303415616264301e-15\n",
      "MAE sesudah missing value diubah menjadi 0: 48.73524134365362\n"
     ]
    }
   ],
   "source": [
    "print('MAE sebelum missing value diubah menjadi 0:', (df_formula['rougher.output.recovery_formula'] - df_formula['rougher.output.recovery'] ).abs().mean())\n",
    "print('MAE sesudah missing value diubah menjadi 0:', (comparison['formula'] - comparison['output.recovery'] ).abs().mean())\n"
   ]
  },
  {
   "cell_type": "markdown",
   "metadata": {},
   "source": [
    "Dari formula yang diberikan ditemukan 2 MAE. Dataset pada df_formula memiliki banyak nilai hilang dan beberapa nilai inf yang belum diubah menjadi 0 dan hasil MAEnya adalah 9.30341e-15. Sementara itu, dataset pada **comparison** nilai hilang dan nilai inf telah diubah menjadi 0 sehingga hasil MAEnya menjadi 48.735.\n",
    "\n",
    "Kedua nilai MAE yang ditemukan ini berbeda drastis karena nilai hilang dan inf pada dataset df_formula diabaikan dalam penghitungan MAE sementara pada dataset **comparison** yang nilai hilang dan nilai infnya telah diubah menjadi 0, dihitung dalam MAE. "
   ]
  },
  {
   "cell_type": "markdown",
   "metadata": {},
   "source": [
    "### Parameter yang tidak terdapat dalam test set"
   ]
  },
  {
   "cell_type": "markdown",
   "metadata": {},
   "source": [
    "Pada df_test terdapat 34 kolom yang hilang dari df_train dan df_full. Kolom-kolom tersebut dapat dilihat pada sel berikut ini."
   ]
  },
  {
   "cell_type": "code",
   "execution_count": 124,
   "metadata": {
    "scrolled": true
   },
   "outputs": [
    {
     "data": {
      "text/plain": [
       "{'final.output.concentrate_ag',\n",
       " 'final.output.concentrate_au',\n",
       " 'final.output.concentrate_pb',\n",
       " 'final.output.concentrate_sol',\n",
       " 'final.output.recovery',\n",
       " 'final.output.tail_ag',\n",
       " 'final.output.tail_au',\n",
       " 'final.output.tail_pb',\n",
       " 'final.output.tail_sol',\n",
       " 'primary_cleaner.output.concentrate_ag',\n",
       " 'primary_cleaner.output.concentrate_au',\n",
       " 'primary_cleaner.output.concentrate_pb',\n",
       " 'primary_cleaner.output.concentrate_sol',\n",
       " 'primary_cleaner.output.tail_ag',\n",
       " 'primary_cleaner.output.tail_au',\n",
       " 'primary_cleaner.output.tail_pb',\n",
       " 'primary_cleaner.output.tail_sol',\n",
       " 'rougher.calculation.au_pb_ratio',\n",
       " 'rougher.calculation.floatbank10_sulfate_to_au_feed',\n",
       " 'rougher.calculation.floatbank11_sulfate_to_au_feed',\n",
       " 'rougher.calculation.sulfate_to_au_concentrate',\n",
       " 'rougher.output.concentrate_ag',\n",
       " 'rougher.output.concentrate_au',\n",
       " 'rougher.output.concentrate_pb',\n",
       " 'rougher.output.concentrate_sol',\n",
       " 'rougher.output.recovery',\n",
       " 'rougher.output.tail_ag',\n",
       " 'rougher.output.tail_au',\n",
       " 'rougher.output.tail_pb',\n",
       " 'rougher.output.tail_sol',\n",
       " 'secondary_cleaner.output.tail_ag',\n",
       " 'secondary_cleaner.output.tail_au',\n",
       " 'secondary_cleaner.output.tail_pb',\n",
       " 'secondary_cleaner.output.tail_sol'}"
      ]
     },
     "execution_count": 124,
     "metadata": {},
     "output_type": "execute_result"
    }
   ],
   "source": [
    "missing_test_columns = set(list(df_train.columns.values))- set(list(df_test.columns.values))\n",
    "missing_test_columns"
   ]
  },
  {
   "cell_type": "code",
   "execution_count": 125,
   "metadata": {
    "scrolled": true
   },
   "outputs": [
    {
     "data": {
      "text/plain": [
       "rougher.output.tail_pb                                float64\n",
       "rougher.output.concentrate_sol                        float64\n",
       "primary_cleaner.output.tail_pb                        float64\n",
       "primary_cleaner.output.concentrate_pb                 float64\n",
       "final.output.tail_au                                  float64\n",
       "final.output.concentrate_au                           float64\n",
       "final.output.tail_ag                                  float64\n",
       "secondary_cleaner.output.tail_ag                      float64\n",
       "rougher.output.tail_sol                               float64\n",
       "rougher.output.recovery                               float64\n",
       "rougher.output.tail_ag                                float64\n",
       "rougher.output.concentrate_ag                         float64\n",
       "primary_cleaner.output.tail_au                        float64\n",
       "secondary_cleaner.output.tail_au                      float64\n",
       "rougher.calculation.floatbank10_sulfate_to_au_feed    float64\n",
       "primary_cleaner.output.concentrate_sol                float64\n",
       "rougher.calculation.floatbank11_sulfate_to_au_feed    float64\n",
       "rougher.calculation.sulfate_to_au_concentrate         float64\n",
       "rougher.output.tail_au                                float64\n",
       "final.output.concentrate_sol                          float64\n",
       "primary_cleaner.output.tail_sol                       float64\n",
       "secondary_cleaner.output.tail_pb                      float64\n",
       "final.output.concentrate_ag                           float64\n",
       "primary_cleaner.output.concentrate_ag                 float64\n",
       "secondary_cleaner.output.tail_sol                     float64\n",
       "primary_cleaner.output.concentrate_au                 float64\n",
       "final.output.tail_sol                                 float64\n",
       "primary_cleaner.output.tail_ag                        float64\n",
       "final.output.tail_pb                                  float64\n",
       "final.output.recovery                                 float64\n",
       "rougher.calculation.au_pb_ratio                       float64\n",
       "final.output.concentrate_pb                           float64\n",
       "rougher.output.concentrate_au                         float64\n",
       "rougher.output.concentrate_pb                         float64\n",
       "dtype: object"
      ]
     },
     "execution_count": 125,
     "metadata": {},
     "output_type": "execute_result"
    }
   ],
   "source": [
    "df_full[missing_test_columns].dtypes"
   ]
  },
  {
   "cell_type": "markdown",
   "metadata": {},
   "source": [
    "Kolom yang hilang tidak dapat ditemukan kembali ke dalam df_test, karena itu dalam proses modeling kita akan menggunakan fitur yang terdapat pada kolom df_test saja."
   ]
  },
  {
   "cell_type": "markdown",
   "metadata": {},
   "source": [
    "### Pre-Processing Data"
   ]
  },
  {
   "cell_type": "markdown",
   "metadata": {},
   "source": [
    "#### Missing Value"
   ]
  },
  {
   "cell_type": "code",
   "execution_count": 126,
   "metadata": {},
   "outputs": [],
   "source": [
    "columns_used = df_test.columns.values.tolist()\n",
    "columns_used.append('rougher.output.recovery')\n",
    "columns_used.append('final.output.recovery')"
   ]
  },
  {
   "cell_type": "code",
   "execution_count": 127,
   "metadata": {},
   "outputs": [],
   "source": [
    "# Dalam modelling hanya akan menggunakan kolom yang terdapat pada df_test\n",
    "df_train_fixed = df_train[columns_used]"
   ]
  },
  {
   "cell_type": "code",
   "execution_count": 128,
   "metadata": {},
   "outputs": [],
   "source": [
    "# Mengambil nilai yang tidak hilang pada recovery\n",
    "df_train_fixed = df_train_fixed[df_train_fixed['rougher.output.recovery'].notnull()].reset_index(drop = True) \n",
    "df_train_fixed = df_train_fixed[df_train_fixed['final.output.recovery'].notnull()].reset_index(drop = True) "
   ]
  },
  {
   "cell_type": "code",
   "execution_count": 129,
   "metadata": {},
   "outputs": [
    {
     "data": {
      "text/plain": [
       "((14149, 55), (5856, 53))"
      ]
     },
     "execution_count": 129,
     "metadata": {},
     "output_type": "execute_result"
    }
   ],
   "source": [
    "df_train_fixed.shape, df_test.shape"
   ]
  },
  {
   "cell_type": "code",
   "execution_count": 130,
   "metadata": {},
   "outputs": [],
   "source": [
    "# Nilai hilang akan diisi dengan median dari setiap fitur, maka df_train_fixed dan df_test digabung terlebih dahulu agar tidak ada perbedaan nilai median \n",
    "# dalam pengisian nilai hilang\n",
    "df_full_fixed = pd.concat([df_train_fixed, df_test])"
   ]
  },
  {
   "cell_type": "code",
   "execution_count": 131,
   "metadata": {},
   "outputs": [],
   "source": [
    "# Training menggunakan 55 kolom\n",
    "# Test wajib menggunakan 55 kolom"
   ]
  },
  {
   "cell_type": "code",
   "execution_count": 132,
   "metadata": {
    "scrolled": true
   },
   "outputs": [
    {
     "data": {
      "text/plain": [
       "final.output.recovery                         0.292727\n",
       "rougher.output.recovery                       0.292727\n",
       "rougher.input.floatbank11_xanthate            0.039040\n",
       "rougher.state.floatbank10_e_air               0.022644\n",
       "primary_cleaner.input.sulfate                 0.016096\n",
       "primary_cleaner.input.depressant              0.015796\n",
       "rougher.input.floatbank10_sulfate             0.014296\n",
       "primary_cleaner.input.xanthate                0.013297\n",
       "secondary_cleaner.state.floatbank2_a_air      0.011847\n",
       "rougher.input.feed_size                       0.008298\n",
       "rougher.input.feed_sol                        0.007248\n",
       "rougher.input.floatbank10_xanthate            0.006548\n",
       "rougher.input.feed_pb                         0.005799\n",
       "rougher.input.floatbank11_sulfate             0.004549\n",
       "rougher.input.feed_rate                       0.002399\n",
       "secondary_cleaner.state.floatbank2_b_air      0.002199\n",
       "secondary_cleaner.state.floatbank3_a_air      0.001900\n",
       "secondary_cleaner.state.floatbank4_a_air      0.001100\n",
       "primary_cleaner.state.floatbank8_b_air        0.001000\n",
       "primary_cleaner.state.floatbank8_a_air        0.001000\n",
       "primary_cleaner.state.floatbank8_d_air        0.000950\n",
       "rougher.state.floatbank10_b_air               0.000900\n",
       "secondary_cleaner.state.floatbank6_a_air      0.000900\n",
       "rougher.state.floatbank10_c_air               0.000900\n",
       "primary_cleaner.state.floatbank8_c_air        0.000900\n",
       "rougher.state.floatbank10_a_air               0.000900\n",
       "secondary_cleaner.state.floatbank6_a_level    0.000850\n",
       "primary_cleaner.state.floatbank8_a_level      0.000850\n",
       "secondary_cleaner.state.floatbank5_b_level    0.000850\n",
       "secondary_cleaner.state.floatbank5_b_air      0.000850\n",
       "secondary_cleaner.state.floatbank5_a_level    0.000850\n",
       "secondary_cleaner.state.floatbank5_a_air      0.000850\n",
       "secondary_cleaner.state.floatbank4_b_level    0.000850\n",
       "secondary_cleaner.state.floatbank4_b_air      0.000850\n",
       "secondary_cleaner.state.floatbank4_a_level    0.000850\n",
       "primary_cleaner.state.floatbank8_b_level      0.000850\n",
       "secondary_cleaner.state.floatbank3_b_level    0.000850\n",
       "secondary_cleaner.state.floatbank3_b_air      0.000850\n",
       "secondary_cleaner.state.floatbank3_a_level    0.000850\n",
       "rougher.state.floatbank10_a_level             0.000850\n",
       "secondary_cleaner.state.floatbank2_b_level    0.000850\n",
       "primary_cleaner.state.floatbank8_c_level      0.000850\n",
       "secondary_cleaner.state.floatbank2_a_level    0.000850\n",
       "primary_cleaner.state.floatbank8_d_level      0.000850\n",
       "rougher.state.floatbank10_f_air               0.000850\n",
       "rougher.state.floatbank10_d_air               0.000850\n",
       "rougher.state.floatbank10_c_level             0.000850\n",
       "rougher.state.floatbank10_b_level             0.000850\n",
       "rougher.state.floatbank10_f_level             0.000800\n",
       "rougher.state.floatbank10_e_level             0.000800\n",
       "rougher.input.feed_ag                         0.000800\n",
       "rougher.state.floatbank10_d_level             0.000800\n",
       "rougher.input.feed_au                         0.000800\n",
       "primary_cleaner.input.feed_size               0.000000\n",
       "date                                          0.000000\n",
       "dtype: float64"
      ]
     },
     "execution_count": 132,
     "metadata": {},
     "output_type": "execute_result"
    }
   ],
   "source": [
    "df_full_fixed.isna().mean().sort_values(ascending = False)"
   ]
  },
  {
   "cell_type": "code",
   "execution_count": 133,
   "metadata": {},
   "outputs": [],
   "source": [
    "# Mengambil [2:-2] karena nilai diluar hal tersebut tidak perlu diperbaiki pada bagian ini\n",
    "for col in df_full_fixed.isna().mean().sort_values(ascending = False)[2:-2].index:\n",
    "    median_cols = df_full_fixed[col].median()\n",
    "    df_full_fixed[col] = df_full_fixed[col].fillna(median_cols)"
   ]
  },
  {
   "cell_type": "code",
   "execution_count": 134,
   "metadata": {},
   "outputs": [],
   "source": [
    "# Dataset yang sudah diperbaiki dipisah kembali menjadi test set dan train set di mana test set mengambil dataset yang nilai recoverynya missing\n",
    "df_test_final = df_full_fixed[df_full_fixed['rougher.output.recovery'].isna()]\n",
    "df_test_final = df_test_final.drop(columns = ['rougher.output.recovery', 'final.output.recovery'])\n",
    "\n",
    "df_train_final = df_full_fixed[df_full_fixed['rougher.output.recovery'].notnull()].reset_index(drop = True)"
   ]
  },
  {
   "cell_type": "markdown",
   "metadata": {},
   "source": [
    "Karena terdapat beberapa kolom hilang dalam df_test, kolom-kolom tersebut akan dihapus dari dataset df_train dan df_full terlebih dahulu agar dapat digunakan dalam modeling. \n",
    "\n",
    "Dataset df_test dan df_train yang kolomnya sudah dihapus lalu digabung menjadi satu untuk mencari median setiap kolom yang akan digunakan untuk mengisi nilai hilan pada kolom tersebut. Lalu, kedua dataset dipisah kembali menggunakan kolom **'rougher.output.recovery**. Jika nilai dalam kolom tersebut berupa nilai hilang maka akan dimasukkan ke dalam df_test jika tidak maka akan dimasukkan ke dalam df_train.\n",
    "\n",
    "Hasil akhir akan disimpan kedalam df_train_final dan df_test_final."
   ]
  },
  {
   "cell_type": "markdown",
   "metadata": {},
   "source": [
    "## EDA"
   ]
  },
  {
   "cell_type": "markdown",
   "metadata": {},
   "source": [
    "### Perubahan konsentrasi logam (Au, Ag, Pb), pada setiap tahap pemurniannya"
   ]
  },
  {
   "cell_type": "code",
   "execution_count": 135,
   "metadata": {},
   "outputs": [],
   "source": [
    "purification_steps = ['rougher.input.feed_{}',\n",
    "                      'rougher.output.concentrate_{}',\n",
    "                      'primary_cleaner.output.concentrate_{}',\n",
    "                      'final.output.concentrate_{}']\n",
    "\n",
    "# Dalam membuat plot, tetap menggunakan dataset df_full karena terdapat fitur yang tidak terdapat dalam df_full_fixed untuk membuat plot\n",
    "def plot_concentrate(metal):\n",
    "    steps = [s.format(metal) for s in purification_steps]\n",
    "    for step in steps:\n",
    "        plt.hist(df_full[step], alpha = 0.5, bins = 20)\n",
    "    plt.legend(steps)\n",
    "\n",
    "def mean_concentrate(metal):\n",
    "    steps = [s.format(metal) for s in purification_steps]\n",
    "    for step in steps:    \n",
    "        print('Average', step,'     :', df_full[step].mean())"
   ]
  },
  {
   "cell_type": "code",
   "execution_count": 136,
   "metadata": {},
   "outputs": [
    {
     "data": {
      "text/plain": [
       "Text(0.5, 1.0, 'Gold Concentration Change')"
      ]
     },
     "execution_count": 136,
     "metadata": {},
     "output_type": "execute_result"
    },
    {
     "data": {
      "image/png": "[encoded data removed]",
      "text/plain": [
       "<Figure size 1080x360 with 1 Axes>"
      ]
     },
     "metadata": {
      "needs_background": "light"
     },
     "output_type": "display_data"
    }
   ],
   "source": [
    "plt.figure(figsize = (15,5))\n",
    "plot_concentrate('au')\n",
    "plt.title('Gold Concentration Change')"
   ]
  },
  {
   "cell_type": "code",
   "execution_count": 137,
   "metadata": {},
   "outputs": [
    {
     "name": "stdout",
     "output_type": "stream",
     "text": [
      "Average rougher.input.feed_au      : 7.565837755623329\n",
      "Average rougher.output.concentrate_au      : 17.879538203033487\n",
      "Average primary_cleaner.output.concentrate_au      : 29.2122887022116\n",
      "Average final.output.concentrate_au      : 40.001171896007136\n"
     ]
    }
   ],
   "source": [
    "mean_concentrate('au')"
   ]
  },
  {
   "cell_type": "markdown",
   "metadata": {},
   "source": [
    "Ditemukan konsentrasi emas tiap tahapnya meningkat terus dari inputnya dengan rata-rata 7.57 sampai akhirnya mencapai 40.00."
   ]
  },
  {
   "cell_type": "code",
   "execution_count": 138,
   "metadata": {},
   "outputs": [
    {
     "data": {
      "text/plain": [
       "Text(0.5, 1.0, 'Silver Concentration Change')"
      ]
     },
     "execution_count": 138,
     "metadata": {},
     "output_type": "execute_result"
    },
    {
     "data": {
      "image/png": "[encoded data removed]",
      "text/plain": [
       "<Figure size 1080x360 with 1 Axes>"
      ]
     },
     "metadata": {
      "needs_background": "light"
     },
     "output_type": "display_data"
    }
   ],
   "source": [
    "plt.figure(figsize = (15,5))\n",
    "plot_concentrate('ag')\n",
    "plt.title('Silver Concentration Change')"
   ]
  },
  {
   "cell_type": "code",
   "execution_count": 139,
   "metadata": {},
   "outputs": [
    {
     "name": "stdout",
     "output_type": "stream",
     "text": [
      "Average rougher.input.feed_ag      : 8.065715344767641\n",
      "Average rougher.output.concentrate_ag      : 10.874483745395448\n",
      "Average primary_cleaner.output.concentrate_ag      : 7.691651764297089\n",
      "Average final.output.concentrate_ag      : 4.781559451695084\n"
     ]
    }
   ],
   "source": [
    "mean_concentrate('ag')"
   ]
  },
  {
   "cell_type": "markdown",
   "metadata": {},
   "source": [
    "Ditemukan konsentrasi perak tiap tahapnya terdapat fluktuasi di mana permulaanya memiliki rata-rata nilai sebesar 8.07 dan output akhirnya memiliki nilai rata-rata sebesar 4.78. "
   ]
  },
  {
   "cell_type": "code",
   "execution_count": 140,
   "metadata": {},
   "outputs": [
    {
     "data": {
      "text/plain": [
       "Text(0.5, 1.0, 'Lead Concentration Change')"
      ]
     },
     "execution_count": 140,
     "metadata": {},
     "output_type": "execute_result"
    },
    {
     "data": {
      "image/png": "[encoded data removed]",
      "text/plain": [
       "<Figure size 1080x360 with 1 Axes>"
      ]
     },
     "metadata": {
      "needs_background": "light"
     },
     "output_type": "display_data"
    }
   ],
   "source": [
    "plt.figure(figsize = (15,5))\n",
    "plot_concentrate('pb')\n",
    "plt.title('Lead Concentration Change')"
   ]
  },
  {
   "cell_type": "code",
   "execution_count": 141,
   "metadata": {},
   "outputs": [
    {
     "name": "stdout",
     "output_type": "stream",
     "text": [
      "Average rougher.input.feed_pb      : 3.3056758107348885\n",
      "Average rougher.output.concentrate_pb      : 6.900646225251443\n",
      "Average primary_cleaner.output.concentrate_pb      : 8.921109840609049\n",
      "Average final.output.concentrate_pb      : 9.095308105450266\n"
     ]
    }
   ],
   "source": [
    "mean_concentrate('pb')"
   ]
  },
  {
   "cell_type": "markdown",
   "metadata": {},
   "source": [
    "Ditemukan konsentrasi timah tiap tahapnya meningkat terus dari inputnya dengan rata-rata 3.31 sampai akhirnya mencapai 9.10."
   ]
  },
  {
   "cell_type": "markdown",
   "metadata": {},
   "source": [
    "### Perbandingan distribusi ukuran partikel feed dalam training set dan test set"
   ]
  },
  {
   "cell_type": "code",
   "execution_count": 142,
   "metadata": {},
   "outputs": [],
   "source": [
    "def filter_outlier(series):\n",
    "    return series[series.between(series.quantile(0.01), series.quantile(0.99))]\n",
    "\n",
    "def compare_train_test(feature):\n",
    "    filter_outlier(df_train[feature]).plot.kde()\n",
    "    filter_outlier(df_test[feature]).plot.kde()\n",
    "    plt.legend(['train','test'])"
   ]
  },
  {
   "cell_type": "code",
   "execution_count": 143,
   "metadata": {},
   "outputs": [],
   "source": [
    "from scipy.stats import levene"
   ]
  },
  {
   "cell_type": "code",
   "execution_count": 144,
   "metadata": {},
   "outputs": [],
   "source": [
    "# Function untuk uji variansi\n",
    "def levene_variance(series1, series2, alpha=0.05):\n",
    "    p_value_levene = levene(series1, series2).pvalue\n",
    "    print(f'P-Value: {p_value_levene}')\n",
    "    print(f'Alpha  : {alpha}')\n",
    "    if p_value_levene >= alpha:\n",
    "        print('H0 Diterima: Kedua data memiliki variansi yang sama')\n",
    "    else:\n",
    "        print('H1 Diterima: Kedua data memiliki variansi yang tidak sama')"
   ]
  },
  {
   "cell_type": "markdown",
   "metadata": {},
   "source": [
    "Untuk melihat perbandingan distribusi ukuran partikel feed pada training set dan test set, kita akan menggunakan uji variansi levene."
   ]
  },
  {
   "cell_type": "code",
   "execution_count": 145,
   "metadata": {},
   "outputs": [],
   "source": [
    "X_columns = df_test_final.drop(columns = ['date']).columns.values\n",
    "y_columns = ['rougher.output.recovery', 'final.output.recovery']\n",
    "\n",
    "X_train = df_train_final[X_columns].reset_index(drop = True)\n",
    "y_train =  df_train_final[y_columns].reset_index(drop = True)\n",
    "\n",
    "y_train.columns = [0, 1]"
   ]
  },
  {
   "cell_type": "code",
   "execution_count": 146,
   "metadata": {},
   "outputs": [],
   "source": [
    "X_test = df_test_final[X_columns].reset_index(drop = True)\n",
    "\n",
    "y_test = df_full[df_full['date'].isin(df_test_final['date'])][y_columns].reset_index(drop = True)\n",
    "y_test.columns = [0, 1]"
   ]
  },
  {
   "cell_type": "code",
   "execution_count": 147,
   "metadata": {},
   "outputs": [
    {
     "data": {
      "text/plain": [
       "['primary_cleaner.input.feed_size',\n",
       " 'rougher.input.feed_ag',\n",
       " 'rougher.input.feed_pb',\n",
       " 'rougher.input.feed_rate',\n",
       " 'rougher.input.feed_size',\n",
       " 'rougher.input.feed_sol',\n",
       " 'rougher.input.feed_au']"
      ]
     },
     "execution_count": 147,
     "metadata": {},
     "output_type": "execute_result"
    }
   ],
   "source": [
    "feeds = [column for column in X_train.columns if 'feed' in column]\n",
    "feeds"
   ]
  },
  {
   "cell_type": "code",
   "execution_count": 148,
   "metadata": {},
   "outputs": [
    {
     "data": {
      "text/plain": [
       "Text(0.5, 1.0, 'Distribusi Ukuran Partikel Feed Utama Training dan Test Set Tanpa Outlier')"
      ]
     },
     "execution_count": 148,
     "metadata": {},
     "output_type": "execute_result"
    },
    {
     "data": {
      "image/png": "[encoded data removed]",
      "text/plain": [
       "<Figure size 432x288 with 1 Axes>"
      ]
     },
     "metadata": {
      "needs_background": "light"
     },
     "output_type": "display_data"
    }
   ],
   "source": [
    "compare_train_test('primary_cleaner.input.feed_size')\n",
    "plt.title('Distribusi Ukuran Partikel Feed Utama Training dan Test Set Tanpa Outlier')"
   ]
  },
  {
   "cell_type": "code",
   "execution_count": 149,
   "metadata": {},
   "outputs": [
    {
     "name": "stdout",
     "output_type": "stream",
     "text": [
      "P-Value: 0.29160196970934205\n",
      "Alpha  : 0.05\n",
      "H0 Diterima: Kedua data memiliki variansi yang sama\n"
     ]
    }
   ],
   "source": [
    "levene_variance(X_train['primary_cleaner.input.feed_size'], X_test['primary_cleaner.input.feed_size'])"
   ]
  },
  {
   "cell_type": "code",
   "execution_count": 150,
   "metadata": {},
   "outputs": [
    {
     "data": {
      "text/plain": [
       "Text(0.5, 1.0, 'Distribusi Partikel Feed Ag Training dan Test Set Tanpa Outlier')"
      ]
     },
     "execution_count": 150,
     "metadata": {},
     "output_type": "execute_result"
    },
    {
     "data": {
      "image/png": "[encoded data removed]",
      "text/plain": [
       "<Figure size 432x288 with 1 Axes>"
      ]
     },
     "metadata": {
      "needs_background": "light"
     },
     "output_type": "display_data"
    }
   ],
   "source": [
    "compare_train_test('rougher.input.feed_ag')\n",
    "plt.title('Distribusi Partikel Feed Ag Training dan Test Set Tanpa Outlier')"
   ]
  },
  {
   "cell_type": "code",
   "execution_count": 151,
   "metadata": {},
   "outputs": [
    {
     "name": "stdout",
     "output_type": "stream",
     "text": [
      "P-Value: 2.6414195173599137e-98\n",
      "Alpha  : 0.05\n",
      "H1 Diterima: Kedua data memiliki variansi yang tidak sama\n"
     ]
    }
   ],
   "source": [
    "levene_variance(X_train['rougher.input.feed_ag'], X_test['rougher.input.feed_ag'])"
   ]
  },
  {
   "cell_type": "code",
   "execution_count": 152,
   "metadata": {},
   "outputs": [
    {
     "data": {
      "text/plain": [
       "Text(0.5, 1.0, 'Distribusi Partikel Feed Pb Training dan Test Set Tanpa Outlier')"
      ]
     },
     "execution_count": 152,
     "metadata": {},
     "output_type": "execute_result"
    },
    {
     "data": {
      "image/png": "[encoded data removed]",
      "text/plain": [
       "<Figure size 432x288 with 1 Axes>"
      ]
     },
     "metadata": {
      "needs_background": "light"
     },
     "output_type": "display_data"
    }
   ],
   "source": [
    "compare_train_test('rougher.input.feed_pb')\n",
    "plt.title('Distribusi Partikel Feed Pb Training dan Test Set Tanpa Outlier')"
   ]
  },
  {
   "cell_type": "code",
   "execution_count": 153,
   "metadata": {},
   "outputs": [
    {
     "name": "stdout",
     "output_type": "stream",
     "text": [
      "P-Value: 1.3539838760000156e-10\n",
      "Alpha  : 0.05\n",
      "H1 Diterima: Kedua data memiliki variansi yang tidak sama\n"
     ]
    }
   ],
   "source": [
    "levene_variance(X_train['rougher.input.feed_pb'], X_test['rougher.input.feed_pb'])"
   ]
  },
  {
   "cell_type": "code",
   "execution_count": 154,
   "metadata": {
    "scrolled": true
   },
   "outputs": [
    {
     "data": {
      "text/plain": [
       "Text(0.5, 1.0, 'Distribusi Kecepatan Partikel Feed Training dan Test Set Tanpa Outlier')"
      ]
     },
     "execution_count": 154,
     "metadata": {},
     "output_type": "execute_result"
    },
    {
     "data": {
      "image/png": "[encoded data removed]",
      "text/plain": [
       "<Figure size 432x288 with 1 Axes>"
      ]
     },
     "metadata": {
      "needs_background": "light"
     },
     "output_type": "display_data"
    }
   ],
   "source": [
    "compare_train_test('rougher.input.feed_rate')\n",
    "plt.title('Distribusi Kecepatan Partikel Feed Training dan Test Set Tanpa Outlier')"
   ]
  },
  {
   "cell_type": "code",
   "execution_count": 155,
   "metadata": {},
   "outputs": [
    {
     "name": "stdout",
     "output_type": "stream",
     "text": [
      "P-Value: 2.5135369363321505e-138\n",
      "Alpha  : 0.05\n",
      "H1 Diterima: Kedua data memiliki variansi yang tidak sama\n"
     ]
    }
   ],
   "source": [
    "levene_variance(X_train['rougher.input.feed_rate'], X_test['rougher.input.feed_rate'])"
   ]
  },
  {
   "cell_type": "code",
   "execution_count": 156,
   "metadata": {},
   "outputs": [
    {
     "data": {
      "text/plain": [
       "Text(0.5, 1.0, 'Distribusi Ukuran Partikel Feed Kasar Training dan Test Set Tanpa Outlier')"
      ]
     },
     "execution_count": 156,
     "metadata": {},
     "output_type": "execute_result"
    },
    {
     "data": {
      "image/png": "[encoded data removed]",
      "text/plain": [
       "<Figure size 432x288 with 1 Axes>"
      ]
     },
     "metadata": {
      "needs_background": "light"
     },
     "output_type": "display_data"
    }
   ],
   "source": [
    "compare_train_test('rougher.input.feed_size')\n",
    "plt.title('Distribusi Ukuran Partikel Feed Kasar Training dan Test Set Tanpa Outlier')"
   ]
  },
  {
   "cell_type": "code",
   "execution_count": 157,
   "metadata": {},
   "outputs": [
    {
     "name": "stdout",
     "output_type": "stream",
     "text": [
      "P-Value: 0.09162100202519845\n",
      "Alpha  : 0.05\n",
      "H0 Diterima: Kedua data memiliki variansi yang sama\n"
     ]
    }
   ],
   "source": [
    "levene_variance(X_train['rougher.input.feed_size'], X_test['rougher.input.feed_size'])"
   ]
  },
  {
   "cell_type": "code",
   "execution_count": 158,
   "metadata": {
    "scrolled": true
   },
   "outputs": [
    {
     "data": {
      "text/plain": [
       "Text(0.5, 1.0, 'Distribusi Partikel Feed Sol Training dan Test Set Tanpa Outlier')"
      ]
     },
     "execution_count": 158,
     "metadata": {},
     "output_type": "execute_result"
    },
    {
     "data": {
      "image/png": "[encoded data removed]",
      "text/plain": [
       "<Figure size 432x288 with 1 Axes>"
      ]
     },
     "metadata": {
      "needs_background": "light"
     },
     "output_type": "display_data"
    }
   ],
   "source": [
    "compare_train_test('rougher.input.feed_sol')\n",
    "plt.title('Distribusi Partikel Feed Sol Training dan Test Set Tanpa Outlier')"
   ]
  },
  {
   "cell_type": "code",
   "execution_count": 159,
   "metadata": {},
   "outputs": [
    {
     "name": "stdout",
     "output_type": "stream",
     "text": [
      "P-Value: 1.1402742319769376e-245\n",
      "Alpha  : 0.05\n",
      "H1 Diterima: Kedua data memiliki variansi yang tidak sama\n"
     ]
    }
   ],
   "source": [
    "levene_variance(X_train['rougher.input.feed_sol'], X_test['rougher.input.feed_sol'])"
   ]
  },
  {
   "cell_type": "code",
   "execution_count": 160,
   "metadata": {
    "scrolled": true
   },
   "outputs": [
    {
     "data": {
      "text/plain": [
       "Text(0.5, 1.0, 'Distribusi Partikel Feed Au Training dan Test Set Tanpa Outlier')"
      ]
     },
     "execution_count": 160,
     "metadata": {},
     "output_type": "execute_result"
    },
    {
     "data": {
      "image/png": "[encoded data removed]",
      "text/plain": [
       "<Figure size 432x288 with 1 Axes>"
      ]
     },
     "metadata": {
      "needs_background": "light"
     },
     "output_type": "display_data"
    }
   ],
   "source": [
    "compare_train_test('rougher.input.feed_au')\n",
    "plt.title('Distribusi Partikel Feed Au Training dan Test Set Tanpa Outlier')"
   ]
  },
  {
   "cell_type": "code",
   "execution_count": 161,
   "metadata": {
    "scrolled": false
   },
   "outputs": [
    {
     "name": "stdout",
     "output_type": "stream",
     "text": [
      "P-Value: 6.939145855792797e-44\n",
      "Alpha  : 0.05\n",
      "H1 Diterima: Kedua data memiliki variansi yang tidak sama\n"
     ]
    }
   ],
   "source": [
    "levene_variance(X_train['rougher.input.feed_au'], X_test['rougher.input.feed_au'])"
   ]
  },
  {
   "cell_type": "code",
   "execution_count": 162,
   "metadata": {
    "scrolled": true
   },
   "outputs": [
    {
     "name": "stdout",
     "output_type": "stream",
     "text": [
      "primary_cleaner.input.feed_size\n",
      "P-Value: 0.29160196970934205\n",
      "Alpha  : 0.05\n",
      "H0 Diterima: Kedua data memiliki variansi yang sama\n",
      "--------------------\n",
      "rougher.input.feed_ag\n",
      "P-Value: 2.6414195173599137e-98\n",
      "Alpha  : 0.05\n",
      "H1 Diterima: Kedua data memiliki variansi yang tidak sama\n",
      "--------------------\n",
      "rougher.input.feed_pb\n",
      "P-Value: 1.3539838760000156e-10\n",
      "Alpha  : 0.05\n",
      "H1 Diterima: Kedua data memiliki variansi yang tidak sama\n",
      "--------------------\n",
      "rougher.input.feed_rate\n",
      "P-Value: 2.5135369363321505e-138\n",
      "Alpha  : 0.05\n",
      "H1 Diterima: Kedua data memiliki variansi yang tidak sama\n",
      "--------------------\n",
      "rougher.input.feed_size\n",
      "P-Value: 0.09162100202519845\n",
      "Alpha  : 0.05\n",
      "H0 Diterima: Kedua data memiliki variansi yang sama\n",
      "--------------------\n",
      "rougher.input.feed_sol\n",
      "P-Value: 1.1402742319769376e-245\n",
      "Alpha  : 0.05\n",
      "H1 Diterima: Kedua data memiliki variansi yang tidak sama\n",
      "--------------------\n",
      "rougher.input.feed_au\n",
      "P-Value: 6.939145855792797e-44\n",
      "Alpha  : 0.05\n",
      "H1 Diterima: Kedua data memiliki variansi yang tidak sama\n",
      "--------------------\n"
     ]
    }
   ],
   "source": [
    "for column in feeds:\n",
    "    print(column)\n",
    "    levene_variance(X_train[column], X_test[column])\n",
    "    print('--------------------')"
   ]
  },
  {
   "cell_type": "markdown",
   "metadata": {},
   "source": [
    "Dari hasil yang didapat, ditemukan **primary_cleaner.input.feed_size** dan **rougher.input.feed_size** pada training set dan test set memiliki variansi yang dapat dianggap sama.\n",
    "\n",
    "**rougher.input.feed_ag**, **rougher.input.feed_pb**, **rougher.input.feed_rate**, **rougher.input.feed_sol** dan **rougher.input.feed_au** pada training set dan test set memiliki variansi yang tidak sama."
   ]
  },
  {
   "cell_type": "markdown",
   "metadata": {},
   "source": [
    "### Pertimbangkan total konsentrasi semua substansi di tahap yang berbeda: feed mentah, konsentrasi yang lebih kasar, dan konsentrasi akhir"
   ]
  },
  {
   "cell_type": "code",
   "execution_count": 163,
   "metadata": {},
   "outputs": [],
   "source": [
    "features_input_concentrate = ['rougher.input.feed_au', \n",
    "                              'rougher.input.feed_ag',\n",
    "                              'rougher.input.feed_pb',\n",
    "                              'rougher.input.feed_sol']\n",
    "\n",
    "features_rough_concentrate = ['rougher.output.concentrate_au', \n",
    "                              'rougher.output.concentrate_ag',\n",
    "                              'rougher.output.concentrate_pb',\n",
    "                              'rougher.output.concentrate_sol']\n",
    "\n",
    "features_final_concentrate = ['final.output.concentrate_au', \n",
    "                              'final.output.concentrate_ag',\n",
    "                              'final.output.concentrate_pb',\n",
    "                              'final.output.concentrate_sol']"
   ]
  },
  {
   "cell_type": "code",
   "execution_count": 164,
   "metadata": {},
   "outputs": [
    {
     "data": {
      "text/plain": [
       "<AxesSubplot:>"
      ]
     },
     "execution_count": 164,
     "metadata": {},
     "output_type": "execute_result"
    },
    {
     "data": {
      "image/png": "[encoded data removed]",
      "text/plain": [
       "<Figure size 432x288 with 1 Axes>"
      ]
     },
     "metadata": {
      "needs_background": "light"
     },
     "output_type": "display_data"
    }
   ],
   "source": [
    "df_full[features_input_concentrate].sum(axis = 1).hist(bins = 20)"
   ]
  },
  {
   "cell_type": "code",
   "execution_count": 165,
   "metadata": {
    "scrolled": false
   },
   "outputs": [
    {
     "data": {
      "image/png": "[encoded data removed]",
      "text/plain": [
       "<Figure size 720x720 with 1 Axes>"
      ]
     },
     "metadata": {
      "needs_background": "light"
     },
     "output_type": "display_data"
    }
   ],
   "source": [
    "plt.figure(figsize=(10,10))\n",
    "sns.violinplot(data = df_full[features_input_concentrate], orient = 'h')\n",
    "\n",
    "plt.xticks(fontsize=12)\n",
    "plt.yticks(fontsize=15)\n",
    "\n",
    "plt.show()"
   ]
  },
  {
   "cell_type": "code",
   "execution_count": 166,
   "metadata": {},
   "outputs": [
    {
     "data": {
      "text/plain": [
       "rougher.input.feed_au      7.565838\n",
       "rougher.input.feed_ag      8.065715\n",
       "rougher.input.feed_pb      3.305676\n",
       "rougher.input.feed_sol    33.276016\n",
       "dtype: float64"
      ]
     },
     "execution_count": 166,
     "metadata": {},
     "output_type": "execute_result"
    }
   ],
   "source": [
    "df_full[features_input_concentrate].mean()"
   ]
  },
  {
   "cell_type": "code",
   "execution_count": 167,
   "metadata": {},
   "outputs": [
    {
     "data": {
      "text/plain": [
       "<AxesSubplot:>"
      ]
     },
     "execution_count": 167,
     "metadata": {},
     "output_type": "execute_result"
    },
    {
     "data": {
      "image/png": "[encoded data removed]",
      "text/plain": [
       "<Figure size 432x288 with 1 Axes>"
      ]
     },
     "metadata": {
      "needs_background": "light"
     },
     "output_type": "display_data"
    }
   ],
   "source": [
    "df_full[features_rough_concentrate].sum(axis = 1).hist(bins = 20)"
   ]
  },
  {
   "cell_type": "code",
   "execution_count": 168,
   "metadata": {},
   "outputs": [
    {
     "data": {
      "image/png": "[encoded data removed]",
      "text/plain": [
       "<Figure size 720x720 with 1 Axes>"
      ]
     },
     "metadata": {
      "needs_background": "light"
     },
     "output_type": "display_data"
    }
   ],
   "source": [
    "plt.figure(figsize=(10,10))\n",
    "sns.violinplot(data = df_full[features_rough_concentrate], orient = 'h')\n",
    "\n",
    "plt.xticks(fontsize=12)\n",
    "plt.yticks(fontsize=15)\n",
    "\n",
    "plt.show()"
   ]
  },
  {
   "cell_type": "code",
   "execution_count": 169,
   "metadata": {},
   "outputs": [
    {
     "data": {
      "text/plain": [
       "rougher.output.concentrate_au     17.879538\n",
       "rougher.output.concentrate_ag     10.874484\n",
       "rougher.output.concentrate_pb      6.900646\n",
       "rougher.output.concentrate_sol    26.095508\n",
       "dtype: float64"
      ]
     },
     "execution_count": 169,
     "metadata": {},
     "output_type": "execute_result"
    }
   ],
   "source": [
    "df_full[features_rough_concentrate].mean()"
   ]
  },
  {
   "cell_type": "code",
   "execution_count": 170,
   "metadata": {
    "scrolled": true
   },
   "outputs": [
    {
     "data": {
      "text/plain": [
       "<AxesSubplot:>"
      ]
     },
     "execution_count": 170,
     "metadata": {},
     "output_type": "execute_result"
    },
    {
     "data": {
      "image/png": "[encoded data removed]",
      "text/plain": [
       "<Figure size 432x288 with 1 Axes>"
      ]
     },
     "metadata": {
      "needs_background": "light"
     },
     "output_type": "display_data"
    }
   ],
   "source": [
    "df_full[features_final_concentrate].sum(axis = 1).hist(bins = 20)"
   ]
  },
  {
   "cell_type": "code",
   "execution_count": 171,
   "metadata": {
    "scrolled": false
   },
   "outputs": [
    {
     "data": {
      "image/png": "[encoded data removed]",
      "text/plain": [
       "<Figure size 720x720 with 1 Axes>"
      ]
     },
     "metadata": {
      "needs_background": "light"
     },
     "output_type": "display_data"
    }
   ],
   "source": [
    "plt.figure(figsize=(10,10))\n",
    "sns.violinplot(data = df_full[features_final_concentrate], orient = 'h')\n",
    "plt.title('Distribusi Konsentrasi Akhir Setiap  ')\n",
    "plt.xticks(fontsize=12)\n",
    "plt.yticks(fontsize=15)\n",
    "\n",
    "plt.show()"
   ]
  },
  {
   "cell_type": "code",
   "execution_count": 172,
   "metadata": {},
   "outputs": [
    {
     "data": {
      "text/plain": [
       "final.output.concentrate_au     40.001172\n",
       "final.output.concentrate_ag      4.781559\n",
       "final.output.concentrate_pb      9.095308\n",
       "final.output.concentrate_sol     8.640317\n",
       "dtype: float64"
      ]
     },
     "execution_count": 172,
     "metadata": {},
     "output_type": "execute_result"
    }
   ],
   "source": [
    "df_full[features_final_concentrate].mean()"
   ]
  },
  {
   "cell_type": "markdown",
   "metadata": {},
   "source": [
    "Dari hasil yang didapat, ditemukan dibutuhkan konsentrasi besar dalam sol yang besar dengan rata-rata 33.28. Konsentrasi ini berkurang dari setiap tahap di mana akhirnya sebesar 8.64.\n",
    "\n",
    "Sementara itu, konsentrasi emas setiap tahapnya bertambah terus dari 7.57 sampai 40.00."
   ]
  },
  {
   "cell_type": "code",
   "execution_count": 173,
   "metadata": {},
   "outputs": [
    {
     "name": "stdout",
     "output_type": "stream",
     "text": [
      "(14601, 87)\n",
      "(5856, 53)\n"
     ]
    }
   ],
   "source": [
    "threshold = 0.1\n",
    "df_train = df_train[df_train[features_input_concentrate].sum(axis = 1) > threshold]\n",
    "df_train = df_train[df_train[features_rough_concentrate].sum(axis = 1) > threshold]\n",
    "df_train = df_train[df_train[features_final_concentrate].sum(axis = 1) > threshold]\n",
    "\n",
    "print(df_train.shape)\n",
    "\n",
    "df_full_test = df_full[df_full['date'].isin(df_test['date'])].reset_index(drop = True)\n",
    "\n",
    "# df_test = df_test[df_full_test[features_input_concentrate].sum(axis = 1) > threshold]\n",
    "# df_test = df_test[df_full_test[features_rough_concentrate].sum(axis = 1) > threshold]\n",
    "# df_test = df_test[df_full_test[features_final_concentrate].sum(axis = 1) > threshold]\n",
    "\n",
    "print(df_test.shape)"
   ]
  },
  {
   "cell_type": "markdown",
   "metadata": {},
   "source": [
    "## Feature Engineering"
   ]
  },
  {
   "cell_type": "markdown",
   "metadata": {},
   "source": [
    "### Model Selection"
   ]
  },
  {
   "cell_type": "code",
   "execution_count": 174,
   "metadata": {},
   "outputs": [],
   "source": [
    "from sklearn.linear_model import LinearRegression\n",
    "from sklearn.tree import DecisionTreeRegressor\n",
    "from sklearn.ensemble import RandomForestRegressor\n",
    "\n",
    "from sklearn.model_selection import KFold\n"
   ]
  },
  {
   "cell_type": "code",
   "execution_count": 175,
   "metadata": {},
   "outputs": [
    {
     "data": {
      "text/html": [
       "<div>\n",
       "<style scoped>\n",
       "    .dataframe tbody tr th:only-of-type {\n",
       "        vertical-align: middle;\n",
       "    }\n",
       "\n",
       "    .dataframe tbody tr th {\n",
       "        vertical-align: top;\n",
       "    }\n",
       "\n",
       "    .dataframe thead th {\n",
       "        text-align: right;\n",
       "    }\n",
       "</style>\n",
       "<table border=\"1\" class=\"dataframe\">\n",
       "  <thead>\n",
       "    <tr style=\"text-align: right;\">\n",
       "      <th></th>\n",
       "      <th>primary_cleaner.input.sulfate</th>\n",
       "      <th>primary_cleaner.input.depressant</th>\n",
       "      <th>primary_cleaner.input.feed_size</th>\n",
       "      <th>primary_cleaner.input.xanthate</th>\n",
       "      <th>primary_cleaner.state.floatbank8_a_air</th>\n",
       "      <th>primary_cleaner.state.floatbank8_a_level</th>\n",
       "      <th>primary_cleaner.state.floatbank8_b_air</th>\n",
       "      <th>primary_cleaner.state.floatbank8_b_level</th>\n",
       "      <th>primary_cleaner.state.floatbank8_c_air</th>\n",
       "      <th>primary_cleaner.state.floatbank8_c_level</th>\n",
       "      <th>...</th>\n",
       "      <th>secondary_cleaner.state.floatbank4_a_air</th>\n",
       "      <th>secondary_cleaner.state.floatbank4_a_level</th>\n",
       "      <th>secondary_cleaner.state.floatbank4_b_air</th>\n",
       "      <th>secondary_cleaner.state.floatbank4_b_level</th>\n",
       "      <th>secondary_cleaner.state.floatbank5_a_air</th>\n",
       "      <th>secondary_cleaner.state.floatbank5_a_level</th>\n",
       "      <th>secondary_cleaner.state.floatbank5_b_air</th>\n",
       "      <th>secondary_cleaner.state.floatbank5_b_level</th>\n",
       "      <th>secondary_cleaner.state.floatbank6_a_air</th>\n",
       "      <th>secondary_cleaner.state.floatbank6_a_level</th>\n",
       "    </tr>\n",
       "  </thead>\n",
       "  <tbody>\n",
       "    <tr>\n",
       "      <th>0</th>\n",
       "      <td>127.092003</td>\n",
       "      <td>10.128295</td>\n",
       "      <td>7.25</td>\n",
       "      <td>0.988759</td>\n",
       "      <td>1549.775757</td>\n",
       "      <td>-498.912140</td>\n",
       "      <td>1551.434204</td>\n",
       "      <td>-516.403442</td>\n",
       "      <td>1549.873901</td>\n",
       "      <td>-498.666595</td>\n",
       "      <td>...</td>\n",
       "      <td>14.016835</td>\n",
       "      <td>-502.488007</td>\n",
       "      <td>12.099931</td>\n",
       "      <td>-504.715942</td>\n",
       "      <td>9.925633</td>\n",
       "      <td>-498.310211</td>\n",
       "      <td>8.079666</td>\n",
       "      <td>-500.470978</td>\n",
       "      <td>14.151341</td>\n",
       "      <td>-605.841980</td>\n",
       "    </tr>\n",
       "    <tr>\n",
       "      <th>1</th>\n",
       "      <td>125.629232</td>\n",
       "      <td>10.296251</td>\n",
       "      <td>7.25</td>\n",
       "      <td>1.002663</td>\n",
       "      <td>1576.166671</td>\n",
       "      <td>-500.904965</td>\n",
       "      <td>1575.950626</td>\n",
       "      <td>-499.865889</td>\n",
       "      <td>1575.994189</td>\n",
       "      <td>-499.315107</td>\n",
       "      <td>...</td>\n",
       "      <td>13.992281</td>\n",
       "      <td>-505.503262</td>\n",
       "      <td>11.950531</td>\n",
       "      <td>-501.331529</td>\n",
       "      <td>10.039245</td>\n",
       "      <td>-500.169983</td>\n",
       "      <td>7.984757</td>\n",
       "      <td>-500.582168</td>\n",
       "      <td>13.998353</td>\n",
       "      <td>-599.787184</td>\n",
       "    </tr>\n",
       "    <tr>\n",
       "      <th>2</th>\n",
       "      <td>123.819808</td>\n",
       "      <td>11.316280</td>\n",
       "      <td>7.25</td>\n",
       "      <td>0.991265</td>\n",
       "      <td>1601.556163</td>\n",
       "      <td>-499.997791</td>\n",
       "      <td>1600.386685</td>\n",
       "      <td>-500.607762</td>\n",
       "      <td>1602.003542</td>\n",
       "      <td>-500.870069</td>\n",
       "      <td>...</td>\n",
       "      <td>14.015015</td>\n",
       "      <td>-502.520901</td>\n",
       "      <td>11.912783</td>\n",
       "      <td>-501.133383</td>\n",
       "      <td>10.070913</td>\n",
       "      <td>-500.129135</td>\n",
       "      <td>8.013877</td>\n",
       "      <td>-500.517572</td>\n",
       "      <td>14.028663</td>\n",
       "      <td>-601.427363</td>\n",
       "    </tr>\n",
       "    <tr>\n",
       "      <th>3</th>\n",
       "      <td>122.270188</td>\n",
       "      <td>11.322140</td>\n",
       "      <td>7.25</td>\n",
       "      <td>0.996739</td>\n",
       "      <td>1599.968720</td>\n",
       "      <td>-500.951778</td>\n",
       "      <td>1600.659236</td>\n",
       "      <td>-499.677094</td>\n",
       "      <td>1600.304144</td>\n",
       "      <td>-500.727997</td>\n",
       "      <td>...</td>\n",
       "      <td>14.036510</td>\n",
       "      <td>-500.857308</td>\n",
       "      <td>11.999550</td>\n",
       "      <td>-501.193686</td>\n",
       "      <td>9.970366</td>\n",
       "      <td>-499.201640</td>\n",
       "      <td>7.977324</td>\n",
       "      <td>-500.255908</td>\n",
       "      <td>14.005551</td>\n",
       "      <td>-599.996129</td>\n",
       "    </tr>\n",
       "    <tr>\n",
       "      <th>4</th>\n",
       "      <td>117.988169</td>\n",
       "      <td>11.913613</td>\n",
       "      <td>7.25</td>\n",
       "      <td>1.009869</td>\n",
       "      <td>1601.339707</td>\n",
       "      <td>-498.975456</td>\n",
       "      <td>1601.437854</td>\n",
       "      <td>-500.323246</td>\n",
       "      <td>1599.581894</td>\n",
       "      <td>-500.888152</td>\n",
       "      <td>...</td>\n",
       "      <td>14.027298</td>\n",
       "      <td>-499.838632</td>\n",
       "      <td>11.953070</td>\n",
       "      <td>-501.053894</td>\n",
       "      <td>9.925709</td>\n",
       "      <td>-501.686727</td>\n",
       "      <td>7.894242</td>\n",
       "      <td>-500.356035</td>\n",
       "      <td>13.996647</td>\n",
       "      <td>-601.496691</td>\n",
       "    </tr>\n",
       "  </tbody>\n",
       "</table>\n",
       "<p>5 rows × 52 columns</p>\n",
       "</div>"
      ],
      "text/plain": [
       "   primary_cleaner.input.sulfate  primary_cleaner.input.depressant  \\\n",
       "0                     127.092003                         10.128295   \n",
       "1                     125.629232                         10.296251   \n",
       "2                     123.819808                         11.316280   \n",
       "3                     122.270188                         11.322140   \n",
       "4                     117.988169                         11.913613   \n",
       "\n",
       "   primary_cleaner.input.feed_size  primary_cleaner.input.xanthate  \\\n",
       "0                             7.25                        0.988759   \n",
       "1                             7.25                        1.002663   \n",
       "2                             7.25                        0.991265   \n",
       "3                             7.25                        0.996739   \n",
       "4                             7.25                        1.009869   \n",
       "\n",
       "   primary_cleaner.state.floatbank8_a_air  \\\n",
       "0                             1549.775757   \n",
       "1                             1576.166671   \n",
       "2                             1601.556163   \n",
       "3                             1599.968720   \n",
       "4                             1601.339707   \n",
       "\n",
       "   primary_cleaner.state.floatbank8_a_level  \\\n",
       "0                               -498.912140   \n",
       "1                               -500.904965   \n",
       "2                               -499.997791   \n",
       "3                               -500.951778   \n",
       "4                               -498.975456   \n",
       "\n",
       "   primary_cleaner.state.floatbank8_b_air  \\\n",
       "0                             1551.434204   \n",
       "1                             1575.950626   \n",
       "2                             1600.386685   \n",
       "3                             1600.659236   \n",
       "4                             1601.437854   \n",
       "\n",
       "   primary_cleaner.state.floatbank8_b_level  \\\n",
       "0                               -516.403442   \n",
       "1                               -499.865889   \n",
       "2                               -500.607762   \n",
       "3                               -499.677094   \n",
       "4                               -500.323246   \n",
       "\n",
       "   primary_cleaner.state.floatbank8_c_air  \\\n",
       "0                             1549.873901   \n",
       "1                             1575.994189   \n",
       "2                             1602.003542   \n",
       "3                             1600.304144   \n",
       "4                             1599.581894   \n",
       "\n",
       "   primary_cleaner.state.floatbank8_c_level  ...  \\\n",
       "0                               -498.666595  ...   \n",
       "1                               -499.315107  ...   \n",
       "2                               -500.870069  ...   \n",
       "3                               -500.727997  ...   \n",
       "4                               -500.888152  ...   \n",
       "\n",
       "   secondary_cleaner.state.floatbank4_a_air  \\\n",
       "0                                 14.016835   \n",
       "1                                 13.992281   \n",
       "2                                 14.015015   \n",
       "3                                 14.036510   \n",
       "4                                 14.027298   \n",
       "\n",
       "   secondary_cleaner.state.floatbank4_a_level  \\\n",
       "0                                 -502.488007   \n",
       "1                                 -505.503262   \n",
       "2                                 -502.520901   \n",
       "3                                 -500.857308   \n",
       "4                                 -499.838632   \n",
       "\n",
       "   secondary_cleaner.state.floatbank4_b_air  \\\n",
       "0                                 12.099931   \n",
       "1                                 11.950531   \n",
       "2                                 11.912783   \n",
       "3                                 11.999550   \n",
       "4                                 11.953070   \n",
       "\n",
       "   secondary_cleaner.state.floatbank4_b_level  \\\n",
       "0                                 -504.715942   \n",
       "1                                 -501.331529   \n",
       "2                                 -501.133383   \n",
       "3                                 -501.193686   \n",
       "4                                 -501.053894   \n",
       "\n",
       "   secondary_cleaner.state.floatbank5_a_air  \\\n",
       "0                                  9.925633   \n",
       "1                                 10.039245   \n",
       "2                                 10.070913   \n",
       "3                                  9.970366   \n",
       "4                                  9.925709   \n",
       "\n",
       "   secondary_cleaner.state.floatbank5_a_level  \\\n",
       "0                                 -498.310211   \n",
       "1                                 -500.169983   \n",
       "2                                 -500.129135   \n",
       "3                                 -499.201640   \n",
       "4                                 -501.686727   \n",
       "\n",
       "   secondary_cleaner.state.floatbank5_b_air  \\\n",
       "0                                  8.079666   \n",
       "1                                  7.984757   \n",
       "2                                  8.013877   \n",
       "3                                  7.977324   \n",
       "4                                  7.894242   \n",
       "\n",
       "   secondary_cleaner.state.floatbank5_b_level  \\\n",
       "0                                 -500.470978   \n",
       "1                                 -500.582168   \n",
       "2                                 -500.517572   \n",
       "3                                 -500.255908   \n",
       "4                                 -500.356035   \n",
       "\n",
       "   secondary_cleaner.state.floatbank6_a_air  \\\n",
       "0                                 14.151341   \n",
       "1                                 13.998353   \n",
       "2                                 14.028663   \n",
       "3                                 14.005551   \n",
       "4                                 13.996647   \n",
       "\n",
       "   secondary_cleaner.state.floatbank6_a_level  \n",
       "0                                 -605.841980  \n",
       "1                                 -599.787184  \n",
       "2                                 -601.427363  \n",
       "3                                 -599.996129  \n",
       "4                                 -601.496691  \n",
       "\n",
       "[5 rows x 52 columns]"
      ]
     },
     "execution_count": 175,
     "metadata": {},
     "output_type": "execute_result"
    }
   ],
   "source": [
    "X_train.head()"
   ]
  },
  {
   "cell_type": "code",
   "execution_count": 176,
   "metadata": {},
   "outputs": [
    {
     "data": {
      "text/html": [
       "<div>\n",
       "<style scoped>\n",
       "    .dataframe tbody tr th:only-of-type {\n",
       "        vertical-align: middle;\n",
       "    }\n",
       "\n",
       "    .dataframe tbody tr th {\n",
       "        vertical-align: top;\n",
       "    }\n",
       "\n",
       "    .dataframe thead th {\n",
       "        text-align: right;\n",
       "    }\n",
       "</style>\n",
       "<table border=\"1\" class=\"dataframe\">\n",
       "  <thead>\n",
       "    <tr style=\"text-align: right;\">\n",
       "      <th></th>\n",
       "      <th>0</th>\n",
       "      <th>1</th>\n",
       "    </tr>\n",
       "  </thead>\n",
       "  <tbody>\n",
       "    <tr>\n",
       "      <th>0</th>\n",
       "      <td>87.107763</td>\n",
       "      <td>70.541216</td>\n",
       "    </tr>\n",
       "    <tr>\n",
       "      <th>1</th>\n",
       "      <td>86.843261</td>\n",
       "      <td>69.266198</td>\n",
       "    </tr>\n",
       "    <tr>\n",
       "      <th>2</th>\n",
       "      <td>86.842308</td>\n",
       "      <td>68.116445</td>\n",
       "    </tr>\n",
       "    <tr>\n",
       "      <th>3</th>\n",
       "      <td>87.226430</td>\n",
       "      <td>68.347543</td>\n",
       "    </tr>\n",
       "    <tr>\n",
       "      <th>4</th>\n",
       "      <td>86.688794</td>\n",
       "      <td>66.927016</td>\n",
       "    </tr>\n",
       "  </tbody>\n",
       "</table>\n",
       "</div>"
      ],
      "text/plain": [
       "           0          1\n",
       "0  87.107763  70.541216\n",
       "1  86.843261  69.266198\n",
       "2  86.842308  68.116445\n",
       "3  87.226430  68.347543\n",
       "4  86.688794  66.927016"
      ]
     },
     "execution_count": 176,
     "metadata": {},
     "output_type": "execute_result"
    }
   ],
   "source": [
    "y_train.head()"
   ]
  },
  {
   "cell_type": "code",
   "execution_count": 177,
   "metadata": {},
   "outputs": [
    {
     "data": {
      "text/html": [
       "<div>\n",
       "<style scoped>\n",
       "    .dataframe tbody tr th:only-of-type {\n",
       "        vertical-align: middle;\n",
       "    }\n",
       "\n",
       "    .dataframe tbody tr th {\n",
       "        vertical-align: top;\n",
       "    }\n",
       "\n",
       "    .dataframe thead th {\n",
       "        text-align: right;\n",
       "    }\n",
       "</style>\n",
       "<table border=\"1\" class=\"dataframe\">\n",
       "  <thead>\n",
       "    <tr style=\"text-align: right;\">\n",
       "      <th></th>\n",
       "      <th>primary_cleaner.input.sulfate</th>\n",
       "      <th>primary_cleaner.input.depressant</th>\n",
       "      <th>primary_cleaner.input.feed_size</th>\n",
       "      <th>primary_cleaner.input.xanthate</th>\n",
       "      <th>primary_cleaner.state.floatbank8_a_air</th>\n",
       "      <th>primary_cleaner.state.floatbank8_a_level</th>\n",
       "      <th>primary_cleaner.state.floatbank8_b_air</th>\n",
       "      <th>primary_cleaner.state.floatbank8_b_level</th>\n",
       "      <th>primary_cleaner.state.floatbank8_c_air</th>\n",
       "      <th>primary_cleaner.state.floatbank8_c_level</th>\n",
       "      <th>...</th>\n",
       "      <th>secondary_cleaner.state.floatbank4_a_air</th>\n",
       "      <th>secondary_cleaner.state.floatbank4_a_level</th>\n",
       "      <th>secondary_cleaner.state.floatbank4_b_air</th>\n",
       "      <th>secondary_cleaner.state.floatbank4_b_level</th>\n",
       "      <th>secondary_cleaner.state.floatbank5_a_air</th>\n",
       "      <th>secondary_cleaner.state.floatbank5_a_level</th>\n",
       "      <th>secondary_cleaner.state.floatbank5_b_air</th>\n",
       "      <th>secondary_cleaner.state.floatbank5_b_level</th>\n",
       "      <th>secondary_cleaner.state.floatbank6_a_air</th>\n",
       "      <th>secondary_cleaner.state.floatbank6_a_level</th>\n",
       "    </tr>\n",
       "  </thead>\n",
       "  <tbody>\n",
       "    <tr>\n",
       "      <th>0</th>\n",
       "      <td>210.800909</td>\n",
       "      <td>14.993118</td>\n",
       "      <td>8.080000</td>\n",
       "      <td>1.005021</td>\n",
       "      <td>1398.981301</td>\n",
       "      <td>-500.225577</td>\n",
       "      <td>1399.144926</td>\n",
       "      <td>-499.919735</td>\n",
       "      <td>1400.102998</td>\n",
       "      <td>-500.704369</td>\n",
       "      <td>...</td>\n",
       "      <td>12.023554</td>\n",
       "      <td>-497.795834</td>\n",
       "      <td>8.016656</td>\n",
       "      <td>-501.289139</td>\n",
       "      <td>7.946562</td>\n",
       "      <td>-432.317850</td>\n",
       "      <td>4.872511</td>\n",
       "      <td>-500.037437</td>\n",
       "      <td>26.705889</td>\n",
       "      <td>-499.709414</td>\n",
       "    </tr>\n",
       "    <tr>\n",
       "      <th>1</th>\n",
       "      <td>215.392455</td>\n",
       "      <td>14.987471</td>\n",
       "      <td>8.080000</td>\n",
       "      <td>0.990469</td>\n",
       "      <td>1398.777912</td>\n",
       "      <td>-500.057435</td>\n",
       "      <td>1398.055362</td>\n",
       "      <td>-499.778182</td>\n",
       "      <td>1396.151033</td>\n",
       "      <td>-499.240168</td>\n",
       "      <td>...</td>\n",
       "      <td>12.058140</td>\n",
       "      <td>-498.695773</td>\n",
       "      <td>8.130979</td>\n",
       "      <td>-499.634209</td>\n",
       "      <td>7.958270</td>\n",
       "      <td>-525.839648</td>\n",
       "      <td>4.878850</td>\n",
       "      <td>-500.162375</td>\n",
       "      <td>25.019940</td>\n",
       "      <td>-499.819438</td>\n",
       "    </tr>\n",
       "    <tr>\n",
       "      <th>2</th>\n",
       "      <td>215.259946</td>\n",
       "      <td>12.884934</td>\n",
       "      <td>7.786667</td>\n",
       "      <td>0.996043</td>\n",
       "      <td>1398.493666</td>\n",
       "      <td>-500.868360</td>\n",
       "      <td>1398.860436</td>\n",
       "      <td>-499.764529</td>\n",
       "      <td>1398.075709</td>\n",
       "      <td>-502.151509</td>\n",
       "      <td>...</td>\n",
       "      <td>11.962366</td>\n",
       "      <td>-498.767484</td>\n",
       "      <td>8.096893</td>\n",
       "      <td>-500.827423</td>\n",
       "      <td>8.071056</td>\n",
       "      <td>-500.801673</td>\n",
       "      <td>4.905125</td>\n",
       "      <td>-499.828510</td>\n",
       "      <td>24.994862</td>\n",
       "      <td>-500.622559</td>\n",
       "    </tr>\n",
       "    <tr>\n",
       "      <th>3</th>\n",
       "      <td>215.336236</td>\n",
       "      <td>12.006805</td>\n",
       "      <td>7.640000</td>\n",
       "      <td>0.863514</td>\n",
       "      <td>1399.618111</td>\n",
       "      <td>-498.863574</td>\n",
       "      <td>1397.440120</td>\n",
       "      <td>-499.211024</td>\n",
       "      <td>1400.129303</td>\n",
       "      <td>-498.355873</td>\n",
       "      <td>...</td>\n",
       "      <td>12.033091</td>\n",
       "      <td>-498.350935</td>\n",
       "      <td>8.074946</td>\n",
       "      <td>-499.474407</td>\n",
       "      <td>7.897085</td>\n",
       "      <td>-500.868509</td>\n",
       "      <td>4.931400</td>\n",
       "      <td>-499.963623</td>\n",
       "      <td>24.948919</td>\n",
       "      <td>-498.709987</td>\n",
       "    </tr>\n",
       "    <tr>\n",
       "      <th>4</th>\n",
       "      <td>199.099327</td>\n",
       "      <td>10.682530</td>\n",
       "      <td>7.530000</td>\n",
       "      <td>0.805575</td>\n",
       "      <td>1401.268123</td>\n",
       "      <td>-500.808305</td>\n",
       "      <td>1398.128818</td>\n",
       "      <td>-499.504543</td>\n",
       "      <td>1402.172226</td>\n",
       "      <td>-500.810606</td>\n",
       "      <td>...</td>\n",
       "      <td>12.025367</td>\n",
       "      <td>-500.786497</td>\n",
       "      <td>8.054678</td>\n",
       "      <td>-500.397500</td>\n",
       "      <td>8.107890</td>\n",
       "      <td>-509.526725</td>\n",
       "      <td>4.957674</td>\n",
       "      <td>-500.360026</td>\n",
       "      <td>25.003331</td>\n",
       "      <td>-500.856333</td>\n",
       "    </tr>\n",
       "  </tbody>\n",
       "</table>\n",
       "<p>5 rows × 52 columns</p>\n",
       "</div>"
      ],
      "text/plain": [
       "   primary_cleaner.input.sulfate  primary_cleaner.input.depressant  \\\n",
       "0                     210.800909                         14.993118   \n",
       "1                     215.392455                         14.987471   \n",
       "2                     215.259946                         12.884934   \n",
       "3                     215.336236                         12.006805   \n",
       "4                     199.099327                         10.682530   \n",
       "\n",
       "   primary_cleaner.input.feed_size  primary_cleaner.input.xanthate  \\\n",
       "0                         8.080000                        1.005021   \n",
       "1                         8.080000                        0.990469   \n",
       "2                         7.786667                        0.996043   \n",
       "3                         7.640000                        0.863514   \n",
       "4                         7.530000                        0.805575   \n",
       "\n",
       "   primary_cleaner.state.floatbank8_a_air  \\\n",
       "0                             1398.981301   \n",
       "1                             1398.777912   \n",
       "2                             1398.493666   \n",
       "3                             1399.618111   \n",
       "4                             1401.268123   \n",
       "\n",
       "   primary_cleaner.state.floatbank8_a_level  \\\n",
       "0                               -500.225577   \n",
       "1                               -500.057435   \n",
       "2                               -500.868360   \n",
       "3                               -498.863574   \n",
       "4                               -500.808305   \n",
       "\n",
       "   primary_cleaner.state.floatbank8_b_air  \\\n",
       "0                             1399.144926   \n",
       "1                             1398.055362   \n",
       "2                             1398.860436   \n",
       "3                             1397.440120   \n",
       "4                             1398.128818   \n",
       "\n",
       "   primary_cleaner.state.floatbank8_b_level  \\\n",
       "0                               -499.919735   \n",
       "1                               -499.778182   \n",
       "2                               -499.764529   \n",
       "3                               -499.211024   \n",
       "4                               -499.504543   \n",
       "\n",
       "   primary_cleaner.state.floatbank8_c_air  \\\n",
       "0                             1400.102998   \n",
       "1                             1396.151033   \n",
       "2                             1398.075709   \n",
       "3                             1400.129303   \n",
       "4                             1402.172226   \n",
       "\n",
       "   primary_cleaner.state.floatbank8_c_level  ...  \\\n",
       "0                               -500.704369  ...   \n",
       "1                               -499.240168  ...   \n",
       "2                               -502.151509  ...   \n",
       "3                               -498.355873  ...   \n",
       "4                               -500.810606  ...   \n",
       "\n",
       "   secondary_cleaner.state.floatbank4_a_air  \\\n",
       "0                                 12.023554   \n",
       "1                                 12.058140   \n",
       "2                                 11.962366   \n",
       "3                                 12.033091   \n",
       "4                                 12.025367   \n",
       "\n",
       "   secondary_cleaner.state.floatbank4_a_level  \\\n",
       "0                                 -497.795834   \n",
       "1                                 -498.695773   \n",
       "2                                 -498.767484   \n",
       "3                                 -498.350935   \n",
       "4                                 -500.786497   \n",
       "\n",
       "   secondary_cleaner.state.floatbank4_b_air  \\\n",
       "0                                  8.016656   \n",
       "1                                  8.130979   \n",
       "2                                  8.096893   \n",
       "3                                  8.074946   \n",
       "4                                  8.054678   \n",
       "\n",
       "   secondary_cleaner.state.floatbank4_b_level  \\\n",
       "0                                 -501.289139   \n",
       "1                                 -499.634209   \n",
       "2                                 -500.827423   \n",
       "3                                 -499.474407   \n",
       "4                                 -500.397500   \n",
       "\n",
       "   secondary_cleaner.state.floatbank5_a_air  \\\n",
       "0                                  7.946562   \n",
       "1                                  7.958270   \n",
       "2                                  8.071056   \n",
       "3                                  7.897085   \n",
       "4                                  8.107890   \n",
       "\n",
       "   secondary_cleaner.state.floatbank5_a_level  \\\n",
       "0                                 -432.317850   \n",
       "1                                 -525.839648   \n",
       "2                                 -500.801673   \n",
       "3                                 -500.868509   \n",
       "4                                 -509.526725   \n",
       "\n",
       "   secondary_cleaner.state.floatbank5_b_air  \\\n",
       "0                                  4.872511   \n",
       "1                                  4.878850   \n",
       "2                                  4.905125   \n",
       "3                                  4.931400   \n",
       "4                                  4.957674   \n",
       "\n",
       "   secondary_cleaner.state.floatbank5_b_level  \\\n",
       "0                                 -500.037437   \n",
       "1                                 -500.162375   \n",
       "2                                 -499.828510   \n",
       "3                                 -499.963623   \n",
       "4                                 -500.360026   \n",
       "\n",
       "   secondary_cleaner.state.floatbank6_a_air  \\\n",
       "0                                 26.705889   \n",
       "1                                 25.019940   \n",
       "2                                 24.994862   \n",
       "3                                 24.948919   \n",
       "4                                 25.003331   \n",
       "\n",
       "   secondary_cleaner.state.floatbank6_a_level  \n",
       "0                                 -499.709414  \n",
       "1                                 -499.819438  \n",
       "2                                 -500.622559  \n",
       "3                                 -498.709987  \n",
       "4                                 -500.856333  \n",
       "\n",
       "[5 rows x 52 columns]"
      ]
     },
     "execution_count": 177,
     "metadata": {},
     "output_type": "execute_result"
    }
   ],
   "source": [
    "X_test.head()"
   ]
  },
  {
   "cell_type": "code",
   "execution_count": 178,
   "metadata": {},
   "outputs": [
    {
     "data": {
      "text/html": [
       "<div>\n",
       "<style scoped>\n",
       "    .dataframe tbody tr th:only-of-type {\n",
       "        vertical-align: middle;\n",
       "    }\n",
       "\n",
       "    .dataframe tbody tr th {\n",
       "        vertical-align: top;\n",
       "    }\n",
       "\n",
       "    .dataframe thead th {\n",
       "        text-align: right;\n",
       "    }\n",
       "</style>\n",
       "<table border=\"1\" class=\"dataframe\">\n",
       "  <thead>\n",
       "    <tr style=\"text-align: right;\">\n",
       "      <th></th>\n",
       "      <th>0</th>\n",
       "      <th>1</th>\n",
       "    </tr>\n",
       "  </thead>\n",
       "  <tbody>\n",
       "    <tr>\n",
       "      <th>0</th>\n",
       "      <td>89.993421</td>\n",
       "      <td>70.273583</td>\n",
       "    </tr>\n",
       "    <tr>\n",
       "      <th>1</th>\n",
       "      <td>88.089657</td>\n",
       "      <td>68.910432</td>\n",
       "    </tr>\n",
       "    <tr>\n",
       "      <th>2</th>\n",
       "      <td>88.412756</td>\n",
       "      <td>68.143213</td>\n",
       "    </tr>\n",
       "    <tr>\n",
       "      <th>3</th>\n",
       "      <td>87.360133</td>\n",
       "      <td>67.776393</td>\n",
       "    </tr>\n",
       "    <tr>\n",
       "      <th>4</th>\n",
       "      <td>83.236367</td>\n",
       "      <td>61.467078</td>\n",
       "    </tr>\n",
       "  </tbody>\n",
       "</table>\n",
       "</div>"
      ],
      "text/plain": [
       "           0          1\n",
       "0  89.993421  70.273583\n",
       "1  88.089657  68.910432\n",
       "2  88.412756  68.143213\n",
       "3  87.360133  67.776393\n",
       "4  83.236367  61.467078"
      ]
     },
     "execution_count": 178,
     "metadata": {},
     "output_type": "execute_result"
    }
   ],
   "source": [
    "y_test.head()"
   ]
  },
  {
   "cell_type": "code",
   "execution_count": 179,
   "metadata": {},
   "outputs": [
    {
     "data": {
      "text/plain": [
       "(5856, 52)"
      ]
     },
     "execution_count": 179,
     "metadata": {},
     "output_type": "execute_result"
    }
   ],
   "source": [
    "X_test.shape"
   ]
  },
  {
   "cell_type": "code",
   "execution_count": 180,
   "metadata": {},
   "outputs": [],
   "source": [
    "def smape(y_true, y_pred):\n",
    "    error = (y_true - y_pred).abs()\n",
    "    scale = (y_true.abs() + y_pred.abs()) / 2\n",
    "    \n",
    "    return (error / scale).mean() * 100\n",
    "\n",
    "\n",
    "def smape_weighted(y_true, y_pred):\n",
    "    rougher = smape(y_true[0], y_pred[0])\n",
    "    final = smape(y_true[1], y_pred[1])\n",
    "    \n",
    "    return 0.25 * rougher + 0.75 * final\n"
   ]
  },
  {
   "cell_type": "code",
   "execution_count": 181,
   "metadata": {},
   "outputs": [],
   "source": [
    "def score_model(model, cv=4):\n",
    "    scores = []\n",
    "    scores_test = []\n",
    "    for subtrain_index, valid_index in KFold(n_splits=cv).split(X_train):\n",
    "        \n",
    "        X_subtrain = X_train.loc[subtrain_index].reset_index(drop=True)\n",
    "        y_subtrain = y_train.loc[subtrain_index].reset_index(drop=True)\n",
    "        \n",
    "        X_valid = X_train.loc[valid_index].reset_index(drop=True)\n",
    "        y_valid = y_train.loc[valid_index].reset_index(drop=True)\n",
    "        \n",
    "        model.fit(X_subtrain, y_subtrain)\n",
    "        pred_valid = pd.DataFrame(model.predict(X_valid))\n",
    "        pred_test = pd.DataFrame(model.predict(X_test))\n",
    "        \n",
    "        scores.append(smape_weighted(y_valid, pred_valid))\n",
    "        scores_test.append(smape_weighted(y_test, pred_test))\n",
    "        \n",
    "    return round(pd.Series(scores).mean(), 2),  round(pd.Series(scores_test).mean(), 2)"
   ]
  },
  {
   "cell_type": "markdown",
   "metadata": {},
   "source": [
    "#### Linear Regression"
   ]
  },
  {
   "cell_type": "code",
   "execution_count": 182,
   "metadata": {},
   "outputs": [
    {
     "name": "stdout",
     "output_type": "stream",
     "text": [
      "LR validation score: 12.65 %     LR test score: 11.24 %\n"
     ]
    }
   ],
   "source": [
    "model = LinearRegression()\n",
    "lr_score_valid, lr_score_test = score_model(model)\n",
    "print('LR validation score:', lr_score_valid,'%', '    LR test score:', lr_score_test,'%')"
   ]
  },
  {
   "cell_type": "markdown",
   "metadata": {},
   "source": [
    "#### Decision Tree Regressor"
   ]
  },
  {
   "cell_type": "code",
   "execution_count": 183,
   "metadata": {},
   "outputs": [
    {
     "name": "stdout",
     "output_type": "stream",
     "text": [
      "DT validation score: 14.7 %     DT test score: 13.75 %\n"
     ]
    }
   ],
   "source": [
    "model = DecisionTreeRegressor(max_depth=10)\n",
    "dt_score_valid, dt_score_test = score_model(model)\n",
    "print('DT validation score:', dt_score_valid, '%', '    DT test score:', dt_score_test,'%')\n"
   ]
  },
  {
   "cell_type": "code",
   "execution_count": 192,
   "metadata": {},
   "outputs": [
    {
     "name": "stdout",
     "output_type": "stream",
     "text": [
      "DT validation score: 14.59 %     DT test score: 14.84 %\n"
     ]
    }
   ],
   "source": [
    "model = DecisionTreeRegressor(max_depth=10)\n",
    "dt_score_valid, dt_score_test = score_model(model)\n",
    "print('DT validation score:', dt_score_valid, '%', '    DT test score:', dt_score_test,'%')\n"
   ]
  },
  {
   "cell_type": "markdown",
   "metadata": {},
   "source": [
    "#### Random Forest Regressor"
   ]
  },
  {
   "cell_type": "code",
   "execution_count": 184,
   "metadata": {},
   "outputs": [
    {
     "name": "stdout",
     "output_type": "stream",
     "text": [
      "RF validation score: 12.2 %     RF test score: 11.05 %\n"
     ]
    }
   ],
   "source": [
    "model = RandomForestRegressor(n_estimators=10, max_depth=10)\n",
    "rf_score_valid, rf_score_test = score_model(model)\n",
    "print('RF validation score:', rf_score_valid, '%','    RF test score:', rf_score_test,'%')"
   ]
  },
  {
   "cell_type": "markdown",
   "metadata": {},
   "source": [
    "#### Kesimpulan Umum"
   ]
  },
  {
   "cell_type": "markdown",
   "metadata": {},
   "source": [
    "Dari hasil yang ditemukan, didapatkan model-model tersebut menghasilkan:\n",
    "- Linear Regression       : skor validasi 12.65% dan skor test sebesar 11.24%\n",
    "- Decision Tree Regressor : skor validasi 14.7% dan skor test sebesar 13.75% \n",
    "- Random Forest Regressor : skor validasi 12.2% dan skor test sebesar 11.05%."
   ]
  },
  {
   "cell_type": "markdown",
   "metadata": {},
   "source": [
    "## Kesimpulan"
   ]
  },
  {
   "cell_type": "markdown",
   "metadata": {},
   "source": [
    "Proyek ini dilakukan untuk mencari perolehan konsentrat yang lebih kasar **rougher.output.recovery** dan perolehan konsentrat akhir **final.output.recovery**. \n",
    "\n",
    "Analisis dimulai dari melihat info keseluruhan dari setiap dataset dan ditemukan terdapat banyak nilai yang hilang yang perlu diisi pada fitur-fitur dan pada df_test terdapat 34 kolom yang hilang pada dataset tersebut. \n",
    "\n",
    "Selanjutnya, kita menghitung MAE perolehan emas dengan rumus yang diberikan. Perolehan emas yang didapat dari rumus lalu dicari MAE dan ditemukan terdapat masalah. Pada hasil perolehan emas dari rumus, terdapat beberapa perhitungan yang menghasilkan nilai missing, INF dan -INF. Nilai-nilai tersebut akan diubah menjadi 0 untuk agar MAE dapat dihitung dan didapatkan nilai MAE sebesar 48.735. Namun, jika nilai bermasalah tersebut dibiarkan maka nilai MAE menjadi 9.303e-15.\n",
    "\n",
    "Untuk mengisi nilai hilang, pertama kita mengambil kolom yang terdapat pada df_test saja karena kolom-kolom tersebut adalah fitur-fitur yang akan digunakan dalam prediksi modeling nanti. df_train dengan fitur yang terpilih tersebut kemudian digabungkan dengan df_test untuk mencari median dari setiap fitur dengan nilai hilang agar tidak ada masalah dalam pengisian nilai hilang pada kedua dataset tersebut. Dataset dipisah kembali dengan cara melihat **rougher.output.recovery** terisi atau tidak. Nilai hilang pada **rougher.output.recovery** menunjukan baris tersebut terdapat pada dataset df_test dan jika terisi maka baris tersebut terdapat pada df_train.\n",
    "\n",
    "Lalu kita melihat bagaimana perubuhan konsentrasi logam (Au, Ag, Pb), pada setiap tahap pemurniannya. Kita menemukan:\n",
    "- Emas: Terdapat peningkatan konsentrasi tiap tahapnya:\n",
    "        - rougher.input          :7.57\n",
    "        - rougher.output         :17.88\n",
    "        - primary_cleaner.output :29.21\n",
    "        - final.output           :40.00 \n",
    "        \n",
    "- Perak: Terdapat fluktuasi konsentrasi tiap tahapnya:\n",
    "        - rougher.input          :8.07\n",
    "        - rougher.output         :10.87\n",
    "        - primary_cleaner.output :7.69\n",
    "        - final.output           :4.78\n",
    "        \n",
    "- Timbal: Terdapat fluktuasi konsentrasi tiap tahapnya:\n",
    "        - rougher.input          :3.31\n",
    "        - rougher.output         :6.90\n",
    "        - primary_cleaner.output :8.92\n",
    "        - final.output           :9.10\n",
    "\n",
    "Selanjutnya, kita melihat bagaimana variansi perbandingan distribusi ukuran partikel feed dalam training set dan test set.\n",
    "\n",
    "Dari hasil yang didapat, ditemukan **primary_cleaner.input.feed_size** dan **rougher.input.feed_size** pada training set dan test set memiliki variansi yang dapat dianggap sama.\n",
    "\n",
    "**rougher.input.feed_ag**, **rougher.input.feed_pb**, **rougher.input.feed_rate**, **rougher.input.feed_sol** dan **rougher.input.feed_au** pada training set dan test set memiliki variansi yang tidak sama.\n",
    "\n",
    "Berikut, kita akan mempertimbangkan total konsentrasi semua substansi di tahap yang berbeda, yakni:\n",
    "- feed mentah:\n",
    "    - rougher.input.feed_au      7.565838\n",
    "    - rougher.input.feed_ag      8.065715\n",
    "    - rougher.input.feed_pb      3.305676\n",
    "    - rougher.input.feed_sol    33.276016\n",
    "    \n",
    "    \n",
    "- konsentrasi yang lebih kasar:\n",
    "    - rougher.output.concentrate_au     17.879538\n",
    "    - rougher.output.concentrate_ag     10.874484\n",
    "    - rougher.output.concentrate_pb      6.900646\n",
    "    - rougher.output.concentrate_sol    26.095508\n",
    "    \n",
    "    \n",
    "- konsentrasi akhir:\n",
    "    - final.output.concentrate_au     40.001172\n",
    "    - final.output.concentrate_ag      4.781559\n",
    "    - final.output.concentrate_pb      9.095308\n",
    "    - final.output.concentrate_sol     8.640317\n",
    "\n",
    "Modeling data dilakukan dengan membuat fungsi yang dapat menghitung sMAPE sesuai dengan rumus yang diberikan. Dalam modeling, akan dilakukan cross-validation untuk memilih model terbaik.\n",
    "\n",
    "Dari hasil yang ditemukan, didapatkan model-model tersebut menghasilkan:\n",
    "- Linear Regression       : skor validasi 12.65% dan skor test sebesar 11.24%\n",
    "- Decision Tree Regressor : skor validasi 14.7% dan skor test sebesar 13.75% \n",
    "- Random Forest Regressor : skor validasi 12.2% dan skor test sebesar 11.05%\n",
    "\n"
   ]
  },
  {
   "cell_type": "code",
   "execution_count": null,
   "metadata": {},
   "outputs": [],
   "source": []
  }
 ],
 "metadata": {
  "kernelspec": {
   "display_name": "Python 3 (ipykernel)",
   "language": "python",
   "name": "python3"
  },
  "language_info": {
   "codemirror_mode": {
    "name": "ipython",
    "version": 3
   },
   "file_extension": ".py",
   "mimetype": "text/x-python",
   "name": "python",
   "nbconvert_exporter": "python",
   "pygments_lexer": "ipython3",
   "version": "3.9.5"
  },
  "toc": {
   "base_numbering": 1,
   "nav_menu": {},
   "number_sections": true,
   "sideBar": true,
   "skip_h1_title": true,
   "title_cell": "Table of Contents",
   "title_sidebar": "Contents",
   "toc_cell": false,
   "toc_position": {},
   "toc_section_display": true,
   "toc_window_display": false
  }
 },
 "nbformat": 4,
 "nbformat_minor": 2
}
